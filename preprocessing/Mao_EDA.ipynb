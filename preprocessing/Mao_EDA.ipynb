{
 "cells": [
  {
   "cell_type": "code",
   "execution_count": 10,
   "metadata": {},
   "outputs": [
    {
     "ename": "PermissionError",
     "evalue": "[Errno 1] Operation not permitted",
     "output_type": "error",
     "traceback": [
      "\u001b[0;31m---------------------------------------------------------------------------\u001b[0m",
      "\u001b[0;31mPermissionError\u001b[0m                           Traceback (most recent call last)",
      "\u001b[1;32m/Users/linyinghsiao/Documents/GitHub/fraud-detection-E.SUN/preprocessing/Mao_EDA.ipynb Cell 1\u001b[0m line \u001b[0;36m1\n\u001b[1;32m      <a href='vscode-notebook-cell:/Users/linyinghsiao/Documents/GitHub/fraud-detection-E.SUN/preprocessing/Mao_EDA.ipynb#X23sZmlsZQ%3D%3D?line=7'>8</a>\u001b[0m \u001b[39mimport\u001b[39;00m \u001b[39mcsv\u001b[39;00m\n\u001b[1;32m     <a href='vscode-notebook-cell:/Users/linyinghsiao/Documents/GitHub/fraud-detection-E.SUN/preprocessing/Mao_EDA.ipynb#X23sZmlsZQ%3D%3D?line=9'>10</a>\u001b[0m \u001b[39m# For Progress Bar\u001b[39;00m\n\u001b[0;32m---> <a href='vscode-notebook-cell:/Users/linyinghsiao/Documents/GitHub/fraud-detection-E.SUN/preprocessing/Mao_EDA.ipynb#X23sZmlsZQ%3D%3D?line=10'>11</a>\u001b[0m \u001b[39mfrom\u001b[39;00m \u001b[39mtqdm\u001b[39;00m \u001b[39mimport\u001b[39;00m tqdm\n\u001b[1;32m     <a href='vscode-notebook-cell:/Users/linyinghsiao/Documents/GitHub/fraud-detection-E.SUN/preprocessing/Mao_EDA.ipynb#X23sZmlsZQ%3D%3D?line=12'>13</a>\u001b[0m \u001b[39m# Pytorch\u001b[39;00m\n\u001b[1;32m     <a href='vscode-notebook-cell:/Users/linyinghsiao/Documents/GitHub/fraud-detection-E.SUN/preprocessing/Mao_EDA.ipynb#X23sZmlsZQ%3D%3D?line=13'>14</a>\u001b[0m \u001b[39mimport\u001b[39;00m \u001b[39mtorch\u001b[39;00m\n",
      "File \u001b[0;32m<frozen importlib._bootstrap>:1178\u001b[0m, in \u001b[0;36m_find_and_load\u001b[0;34m(name, import_)\u001b[0m\n",
      "File \u001b[0;32m<frozen importlib._bootstrap>:1140\u001b[0m, in \u001b[0;36m_find_and_load_unlocked\u001b[0;34m(name, import_)\u001b[0m\n",
      "File \u001b[0;32m<frozen importlib._bootstrap>:1080\u001b[0m, in \u001b[0;36m_find_spec\u001b[0;34m(name, path, target)\u001b[0m\n",
      "File \u001b[0;32m<frozen importlib._bootstrap_external>:1504\u001b[0m, in \u001b[0;36mfind_spec\u001b[0;34m(cls, fullname, path, target)\u001b[0m\n",
      "File \u001b[0;32m<frozen importlib._bootstrap_external>:1473\u001b[0m, in \u001b[0;36m_get_spec\u001b[0;34m(cls, fullname, path, target)\u001b[0m\n",
      "File \u001b[0;32m<frozen importlib._bootstrap_external>:1431\u001b[0m, in \u001b[0;36m_path_importer_cache\u001b[0;34m(cls, path)\u001b[0m\n",
      "\u001b[0;31mPermissionError\u001b[0m: [Errno 1] Operation not permitted"
     ]
    }
   ],
   "source": [
    "# Numerical Operations\n",
    "import math\n",
    "import numpy as np\n",
    "\n",
    "# Reading/Writing Data\n",
    "import pandas as pd\n",
    "import os\n",
    "import csv\n",
    "\n",
    "# For Progress Bar\n",
    "from tqdm import tqdm\n",
    "\n",
    "# Pytorch\n",
    "import torch\n",
    "import torch.nn as nn\n",
    "from torch.utils.data import Dataset, DataLoader, random_split\n",
    "\n",
    "# For plotting learning curve\n",
    "#from torch.utils.tensorboard import SummaryWriter\n",
    "\n",
    "#Visualization\n",
    "import matplotlib.pyplot as plt\n",
    "import seaborn as sns\n",
    "from sklearn.metrics import pairwise_distances\n"
   ]
  },
  {
   "cell_type": "code",
   "execution_count": 8,
   "metadata": {},
   "outputs": [],
   "source": [
    "pd.set_option('display.max_columns', None)\n",
    "#pd.reset_option('display.max_columns')"
   ]
  },
  {
   "cell_type": "code",
   "execution_count": 9,
   "metadata": {},
   "outputs": [
    {
     "ename": "PermissionError",
     "evalue": "[Errno 1] Operation not permitted",
     "output_type": "error",
     "traceback": [
      "\u001b[0;31m---------------------------------------------------------------------------\u001b[0m",
      "\u001b[0;31mPermissionError\u001b[0m                           Traceback (most recent call last)",
      "\u001b[1;32m/Users/linyinghsiao/Documents/GitHub/fraud-detection-E.SUN/preprocessing/Mao_EDA.ipynb Cell 3\u001b[0m line \u001b[0;36m2\n\u001b[1;32m      <a href='vscode-notebook-cell:/Users/linyinghsiao/Documents/GitHub/fraud-detection-E.SUN/preprocessing/Mao_EDA.ipynb#X25sZmlsZQ%3D%3D?line=0'>1</a>\u001b[0m \u001b[39mimport\u001b[39;00m \u001b[39mos\u001b[39;00m\n\u001b[0;32m----> <a href='vscode-notebook-cell:/Users/linyinghsiao/Documents/GitHub/fraud-detection-E.SUN/preprocessing/Mao_EDA.ipynb#X25sZmlsZQ%3D%3D?line=1'>2</a>\u001b[0m os\u001b[39m.\u001b[39;49mgetcwd()\n",
      "\u001b[0;31mPermissionError\u001b[0m: [Errno 1] Operation not permitted"
     ]
    }
   ],
   "source": [
    "import os\n",
    "os.getcwd()"
   ]
  },
  {
   "cell_type": "code",
   "execution_count": 17,
   "metadata": {},
   "outputs": [
    {
     "ename": "FileNotFoundError",
     "evalue": "[Errno 2] No such file or directory: './datasets/public_processed.csv'",
     "output_type": "error",
     "traceback": [
      "\u001b[1;31m---------------------------------------------------------------------------\u001b[0m",
      "\u001b[1;31mFileNotFoundError\u001b[0m                         Traceback (most recent call last)",
      "\u001b[1;32mc:\\Users\\cool8\\Documents\\GitHub\\fraud-detection-E.SUN\\preprocessing\\Der_EDA.ipynb 儲存格 3\u001b[0m line \u001b[0;36m1\n\u001b[1;32m----> <a href='vscode-notebook-cell:/c%3A/Users/cool8/Documents/GitHub/fraud-detection-E.SUN/preprocessing/Der_EDA.ipynb#W2sZmlsZQ%3D%3D?line=0'>1</a>\u001b[0m public  \u001b[39m=\u001b[39m pd\u001b[39m.\u001b[39;49mread_csv(\u001b[39m'\u001b[39;49m\u001b[39m./datasets/public_processed.csv\u001b[39;49m\u001b[39m'\u001b[39;49m) \u001b[39m#,usecols=lambda column: column != 'txkey')\u001b[39;00m\n\u001b[0;32m      <a href='vscode-notebook-cell:/c%3A/Users/cool8/Documents/GitHub/fraud-detection-E.SUN/preprocessing/Der_EDA.ipynb#W2sZmlsZQ%3D%3D?line=1'>2</a>\u001b[0m train  \u001b[39m=\u001b[39m pd\u001b[39m.\u001b[39mread_csv(\u001b[39m'\u001b[39m\u001b[39m./datasets/training.csv\u001b[39m\u001b[39m'\u001b[39m) \u001b[39m#,usecols=lambda column: column != 'txkey')\u001b[39;00m\n",
      "File \u001b[1;32mc:\\Users\\cool8\\Documents\\GitHub\\fraud-detection-E.SUN\\.venv\\Lib\\site-packages\\pandas\\io\\parsers\\readers.py:948\u001b[0m, in \u001b[0;36mread_csv\u001b[1;34m(filepath_or_buffer, sep, delimiter, header, names, index_col, usecols, dtype, engine, converters, true_values, false_values, skipinitialspace, skiprows, skipfooter, nrows, na_values, keep_default_na, na_filter, verbose, skip_blank_lines, parse_dates, infer_datetime_format, keep_date_col, date_parser, date_format, dayfirst, cache_dates, iterator, chunksize, compression, thousands, decimal, lineterminator, quotechar, quoting, doublequote, escapechar, comment, encoding, encoding_errors, dialect, on_bad_lines, delim_whitespace, low_memory, memory_map, float_precision, storage_options, dtype_backend)\u001b[0m\n\u001b[0;32m    935\u001b[0m kwds_defaults \u001b[39m=\u001b[39m _refine_defaults_read(\n\u001b[0;32m    936\u001b[0m     dialect,\n\u001b[0;32m    937\u001b[0m     delimiter,\n\u001b[1;32m   (...)\u001b[0m\n\u001b[0;32m    944\u001b[0m     dtype_backend\u001b[39m=\u001b[39mdtype_backend,\n\u001b[0;32m    945\u001b[0m )\n\u001b[0;32m    946\u001b[0m kwds\u001b[39m.\u001b[39mupdate(kwds_defaults)\n\u001b[1;32m--> 948\u001b[0m \u001b[39mreturn\u001b[39;00m _read(filepath_or_buffer, kwds)\n",
      "File \u001b[1;32mc:\\Users\\cool8\\Documents\\GitHub\\fraud-detection-E.SUN\\.venv\\Lib\\site-packages\\pandas\\io\\parsers\\readers.py:611\u001b[0m, in \u001b[0;36m_read\u001b[1;34m(filepath_or_buffer, kwds)\u001b[0m\n\u001b[0;32m    608\u001b[0m _validate_names(kwds\u001b[39m.\u001b[39mget(\u001b[39m\"\u001b[39m\u001b[39mnames\u001b[39m\u001b[39m\"\u001b[39m, \u001b[39mNone\u001b[39;00m))\n\u001b[0;32m    610\u001b[0m \u001b[39m# Create the parser.\u001b[39;00m\n\u001b[1;32m--> 611\u001b[0m parser \u001b[39m=\u001b[39m TextFileReader(filepath_or_buffer, \u001b[39m*\u001b[39;49m\u001b[39m*\u001b[39;49mkwds)\n\u001b[0;32m    613\u001b[0m \u001b[39mif\u001b[39;00m chunksize \u001b[39mor\u001b[39;00m iterator:\n\u001b[0;32m    614\u001b[0m     \u001b[39mreturn\u001b[39;00m parser\n",
      "File \u001b[1;32mc:\\Users\\cool8\\Documents\\GitHub\\fraud-detection-E.SUN\\.venv\\Lib\\site-packages\\pandas\\io\\parsers\\readers.py:1448\u001b[0m, in \u001b[0;36mTextFileReader.__init__\u001b[1;34m(self, f, engine, **kwds)\u001b[0m\n\u001b[0;32m   1445\u001b[0m     \u001b[39mself\u001b[39m\u001b[39m.\u001b[39moptions[\u001b[39m\"\u001b[39m\u001b[39mhas_index_names\u001b[39m\u001b[39m\"\u001b[39m] \u001b[39m=\u001b[39m kwds[\u001b[39m\"\u001b[39m\u001b[39mhas_index_names\u001b[39m\u001b[39m\"\u001b[39m]\n\u001b[0;32m   1447\u001b[0m \u001b[39mself\u001b[39m\u001b[39m.\u001b[39mhandles: IOHandles \u001b[39m|\u001b[39m \u001b[39mNone\u001b[39;00m \u001b[39m=\u001b[39m \u001b[39mNone\u001b[39;00m\n\u001b[1;32m-> 1448\u001b[0m \u001b[39mself\u001b[39m\u001b[39m.\u001b[39m_engine \u001b[39m=\u001b[39m \u001b[39mself\u001b[39;49m\u001b[39m.\u001b[39;49m_make_engine(f, \u001b[39mself\u001b[39;49m\u001b[39m.\u001b[39;49mengine)\n",
      "File \u001b[1;32mc:\\Users\\cool8\\Documents\\GitHub\\fraud-detection-E.SUN\\.venv\\Lib\\site-packages\\pandas\\io\\parsers\\readers.py:1705\u001b[0m, in \u001b[0;36mTextFileReader._make_engine\u001b[1;34m(self, f, engine)\u001b[0m\n\u001b[0;32m   1703\u001b[0m     \u001b[39mif\u001b[39;00m \u001b[39m\"\u001b[39m\u001b[39mb\u001b[39m\u001b[39m\"\u001b[39m \u001b[39mnot\u001b[39;00m \u001b[39min\u001b[39;00m mode:\n\u001b[0;32m   1704\u001b[0m         mode \u001b[39m+\u001b[39m\u001b[39m=\u001b[39m \u001b[39m\"\u001b[39m\u001b[39mb\u001b[39m\u001b[39m\"\u001b[39m\n\u001b[1;32m-> 1705\u001b[0m \u001b[39mself\u001b[39m\u001b[39m.\u001b[39mhandles \u001b[39m=\u001b[39m get_handle(\n\u001b[0;32m   1706\u001b[0m     f,\n\u001b[0;32m   1707\u001b[0m     mode,\n\u001b[0;32m   1708\u001b[0m     encoding\u001b[39m=\u001b[39;49m\u001b[39mself\u001b[39;49m\u001b[39m.\u001b[39;49moptions\u001b[39m.\u001b[39;49mget(\u001b[39m\"\u001b[39;49m\u001b[39mencoding\u001b[39;49m\u001b[39m\"\u001b[39;49m, \u001b[39mNone\u001b[39;49;00m),\n\u001b[0;32m   1709\u001b[0m     compression\u001b[39m=\u001b[39;49m\u001b[39mself\u001b[39;49m\u001b[39m.\u001b[39;49moptions\u001b[39m.\u001b[39;49mget(\u001b[39m\"\u001b[39;49m\u001b[39mcompression\u001b[39;49m\u001b[39m\"\u001b[39;49m, \u001b[39mNone\u001b[39;49;00m),\n\u001b[0;32m   1710\u001b[0m     memory_map\u001b[39m=\u001b[39;49m\u001b[39mself\u001b[39;49m\u001b[39m.\u001b[39;49moptions\u001b[39m.\u001b[39;49mget(\u001b[39m\"\u001b[39;49m\u001b[39mmemory_map\u001b[39;49m\u001b[39m\"\u001b[39;49m, \u001b[39mFalse\u001b[39;49;00m),\n\u001b[0;32m   1711\u001b[0m     is_text\u001b[39m=\u001b[39;49mis_text,\n\u001b[0;32m   1712\u001b[0m     errors\u001b[39m=\u001b[39;49m\u001b[39mself\u001b[39;49m\u001b[39m.\u001b[39;49moptions\u001b[39m.\u001b[39;49mget(\u001b[39m\"\u001b[39;49m\u001b[39mencoding_errors\u001b[39;49m\u001b[39m\"\u001b[39;49m, \u001b[39m\"\u001b[39;49m\u001b[39mstrict\u001b[39;49m\u001b[39m\"\u001b[39;49m),\n\u001b[0;32m   1713\u001b[0m     storage_options\u001b[39m=\u001b[39;49m\u001b[39mself\u001b[39;49m\u001b[39m.\u001b[39;49moptions\u001b[39m.\u001b[39;49mget(\u001b[39m\"\u001b[39;49m\u001b[39mstorage_options\u001b[39;49m\u001b[39m\"\u001b[39;49m, \u001b[39mNone\u001b[39;49;00m),\n\u001b[0;32m   1714\u001b[0m )\n\u001b[0;32m   1715\u001b[0m \u001b[39massert\u001b[39;00m \u001b[39mself\u001b[39m\u001b[39m.\u001b[39mhandles \u001b[39mis\u001b[39;00m \u001b[39mnot\u001b[39;00m \u001b[39mNone\u001b[39;00m\n\u001b[0;32m   1716\u001b[0m f \u001b[39m=\u001b[39m \u001b[39mself\u001b[39m\u001b[39m.\u001b[39mhandles\u001b[39m.\u001b[39mhandle\n",
      "File \u001b[1;32mc:\\Users\\cool8\\Documents\\GitHub\\fraud-detection-E.SUN\\.venv\\Lib\\site-packages\\pandas\\io\\common.py:863\u001b[0m, in \u001b[0;36mget_handle\u001b[1;34m(path_or_buf, mode, encoding, compression, memory_map, is_text, errors, storage_options)\u001b[0m\n\u001b[0;32m    858\u001b[0m \u001b[39melif\u001b[39;00m \u001b[39misinstance\u001b[39m(handle, \u001b[39mstr\u001b[39m):\n\u001b[0;32m    859\u001b[0m     \u001b[39m# Check whether the filename is to be opened in binary mode.\u001b[39;00m\n\u001b[0;32m    860\u001b[0m     \u001b[39m# Binary mode does not support 'encoding' and 'newline'.\u001b[39;00m\n\u001b[0;32m    861\u001b[0m     \u001b[39mif\u001b[39;00m ioargs\u001b[39m.\u001b[39mencoding \u001b[39mand\u001b[39;00m \u001b[39m\"\u001b[39m\u001b[39mb\u001b[39m\u001b[39m\"\u001b[39m \u001b[39mnot\u001b[39;00m \u001b[39min\u001b[39;00m ioargs\u001b[39m.\u001b[39mmode:\n\u001b[0;32m    862\u001b[0m         \u001b[39m# Encoding\u001b[39;00m\n\u001b[1;32m--> 863\u001b[0m         handle \u001b[39m=\u001b[39m \u001b[39mopen\u001b[39;49m(\n\u001b[0;32m    864\u001b[0m             handle,\n\u001b[0;32m    865\u001b[0m             ioargs\u001b[39m.\u001b[39;49mmode,\n\u001b[0;32m    866\u001b[0m             encoding\u001b[39m=\u001b[39;49mioargs\u001b[39m.\u001b[39;49mencoding,\n\u001b[0;32m    867\u001b[0m             errors\u001b[39m=\u001b[39;49merrors,\n\u001b[0;32m    868\u001b[0m             newline\u001b[39m=\u001b[39;49m\u001b[39m\"\u001b[39;49m\u001b[39m\"\u001b[39;49m,\n\u001b[0;32m    869\u001b[0m         )\n\u001b[0;32m    870\u001b[0m     \u001b[39melse\u001b[39;00m:\n\u001b[0;32m    871\u001b[0m         \u001b[39m# Binary mode\u001b[39;00m\n\u001b[0;32m    872\u001b[0m         handle \u001b[39m=\u001b[39m \u001b[39mopen\u001b[39m(handle, ioargs\u001b[39m.\u001b[39mmode)\n",
      "\u001b[1;31mFileNotFoundError\u001b[0m: [Errno 2] No such file or directory: './datasets/public_processed.csv'"
     ]
    }
   ],
   "source": [
    "public  = pd.read_csv('./datasets/public_processed.csv') #,usecols=lambda column: column != 'txkey')\n",
    "train  = pd.read_csv('./datasets/training.csv') #,usecols=lambda column: column != 'txkey')\n"
   ]
  },
  {
   "cell_type": "code",
   "execution_count": 4,
   "metadata": {},
   "outputs": [],
   "source": [
    "df = pd.concat([public,train])"
   ]
  },
  {
   "cell_type": "code",
   "execution_count": 5,
   "metadata": {},
   "outputs": [],
   "source": [
    "del public, train"
   ]
  },
  {
   "cell_type": "code",
   "execution_count": 62,
   "metadata": {},
   "outputs": [
    {
     "data": {
      "text/html": [
       "<div>\n",
       "<style scoped>\n",
       "    .dataframe tbody tr th:only-of-type {\n",
       "        vertical-align: middle;\n",
       "    }\n",
       "\n",
       "    .dataframe tbody tr th {\n",
       "        vertical-align: top;\n",
       "    }\n",
       "\n",
       "    .dataframe thead th {\n",
       "        text-align: right;\n",
       "    }\n",
       "</style>\n",
       "<table border=\"1\" class=\"dataframe\">\n",
       "  <thead>\n",
       "    <tr style=\"text-align: right;\">\n",
       "      <th></th>\n",
       "      <th>txkey</th>\n",
       "      <th>locdt</th>\n",
       "      <th>loctm</th>\n",
       "      <th>chid</th>\n",
       "      <th>cano</th>\n",
       "      <th>contp</th>\n",
       "      <th>etymd</th>\n",
       "      <th>mchno</th>\n",
       "      <th>acqic</th>\n",
       "      <th>mcc</th>\n",
       "      <th>conam</th>\n",
       "      <th>ecfg</th>\n",
       "      <th>insfg</th>\n",
       "      <th>iterm</th>\n",
       "      <th>bnsfg</th>\n",
       "      <th>flam1</th>\n",
       "      <th>stocn</th>\n",
       "      <th>scity</th>\n",
       "      <th>stscd</th>\n",
       "      <th>ovrlt</th>\n",
       "      <th>flbmk</th>\n",
       "      <th>hcefg</th>\n",
       "      <th>csmcu</th>\n",
       "      <th>csmam</th>\n",
       "      <th>flg_3dsmk</th>\n",
       "      <th>label</th>\n",
       "      <th>weekday</th>\n",
       "      <th>h_loctm</th>\n",
       "      <th>m_loctm</th>\n",
       "      <th>s_loctm</th>\n",
       "      <th>cards</th>\n",
       "    </tr>\n",
       "  </thead>\n",
       "  <tbody>\n",
       "    <tr>\n",
       "      <th>0</th>\n",
       "      <td>a2c1209018e4e52e04f6fabb48f05f1b8bc09dc838ff6c...</td>\n",
       "      <td>56</td>\n",
       "      <td>105157</td>\n",
       "      <td>d6d145d0d058e3f63b9ec421cf9e1543b0c3e059d18c2c...</td>\n",
       "      <td>9c454e0cf3680075b0382394ca59b00ee9435fd829da29...</td>\n",
       "      <td>4</td>\n",
       "      <td>1.0</td>\n",
       "      <td>8be206f97d10b57a46ea0ef5527155a0f9b48d16255b70...</td>\n",
       "      <td>2a608b081c09492bd2bc96d7def5371c4bc9cabf324a98...</td>\n",
       "      <td>272.0</td>\n",
       "      <td>1353.00</td>\n",
       "      <td>0</td>\n",
       "      <td>1</td>\n",
       "      <td>3.0</td>\n",
       "      <td>0</td>\n",
       "      <td>1349</td>\n",
       "      <td>0.0</td>\n",
       "      <td>15759.0</td>\n",
       "      <td>-1.0</td>\n",
       "      <td>0</td>\n",
       "      <td>0</td>\n",
       "      <td>6.0</td>\n",
       "      <td>70.0</td>\n",
       "      <td>1349</td>\n",
       "      <td>0</td>\n",
       "      <td>-1.0</td>\n",
       "      <td>0</td>\n",
       "      <td>10</td>\n",
       "      <td>51</td>\n",
       "      <td>57</td>\n",
       "      <td>1</td>\n",
       "    </tr>\n",
       "    <tr>\n",
       "      <th>1</th>\n",
       "      <td>16c4880500059e01553789be11bbb50753b7acaae7b95b...</td>\n",
       "      <td>56</td>\n",
       "      <td>185520</td>\n",
       "      <td>b599fb83473599fa2df4a04136a668c28df7914293f1da...</td>\n",
       "      <td>9f097cba6a70333c906904ebaad438356cf75b6abf5dd4...</td>\n",
       "      <td>5</td>\n",
       "      <td>8.0</td>\n",
       "      <td>dd280b4f35a02701142ba7de47abb9736deca3eed86474...</td>\n",
       "      <td>46f63555d29f177290dfe20e989146fb033e453f1d5ff3...</td>\n",
       "      <td>320.0</td>\n",
       "      <td>305.00</td>\n",
       "      <td>1</td>\n",
       "      <td>0</td>\n",
       "      <td>0.0</td>\n",
       "      <td>0</td>\n",
       "      <td>306</td>\n",
       "      <td>0.0</td>\n",
       "      <td>13451.0</td>\n",
       "      <td>-1.0</td>\n",
       "      <td>0</td>\n",
       "      <td>0</td>\n",
       "      <td>6.0</td>\n",
       "      <td>70.0</td>\n",
       "      <td>306</td>\n",
       "      <td>0</td>\n",
       "      <td>-1.0</td>\n",
       "      <td>0</td>\n",
       "      <td>18</td>\n",
       "      <td>55</td>\n",
       "      <td>20</td>\n",
       "      <td>2</td>\n",
       "    </tr>\n",
       "    <tr>\n",
       "      <th>2</th>\n",
       "      <td>623c56be3bee87724e3d119c271d9ed098eeda84233183...</td>\n",
       "      <td>59</td>\n",
       "      <td>102312</td>\n",
       "      <td>8de197129150d454df1639e9743c1aa11b1c1122a2010c...</td>\n",
       "      <td>439691cb167b272661c2eb9073124f5d422f446b0f92fb...</td>\n",
       "      <td>5</td>\n",
       "      <td>1.0</td>\n",
       "      <td>9b2d5b4678781e53038e91ea5324530a03f27dc1d0e5f6...</td>\n",
       "      <td>9b2d5b4678781e53038e91ea5324530a03f27dc1d0e5f6...</td>\n",
       "      <td>494.0</td>\n",
       "      <td>20.00</td>\n",
       "      <td>0</td>\n",
       "      <td>0</td>\n",
       "      <td>0.0</td>\n",
       "      <td>0</td>\n",
       "      <td>20</td>\n",
       "      <td>0.0</td>\n",
       "      <td>15759.0</td>\n",
       "      <td>-1.0</td>\n",
       "      <td>0</td>\n",
       "      <td>0</td>\n",
       "      <td>-1.0</td>\n",
       "      <td>-1.0</td>\n",
       "      <td>0</td>\n",
       "      <td>0</td>\n",
       "      <td>-1.0</td>\n",
       "      <td>3</td>\n",
       "      <td>10</td>\n",
       "      <td>23</td>\n",
       "      <td>12</td>\n",
       "      <td>1</td>\n",
       "    </tr>\n",
       "    <tr>\n",
       "      <th>3</th>\n",
       "      <td>250da12187059cf6e3a3066656a2919d08ceb8207efd55...</td>\n",
       "      <td>58</td>\n",
       "      <td>230138</td>\n",
       "      <td>f9cbad08a76f1dd9736a4fc51255eb55637ec0a417a406...</td>\n",
       "      <td>992679b728784192c17e90939918cbfae32ad1222fad26...</td>\n",
       "      <td>5</td>\n",
       "      <td>5.0</td>\n",
       "      <td>bd2b3523b4ecd652445b75ea7583c92f6f02af3971251b...</td>\n",
       "      <td>70dac5b1dfde828f556a93321a649df72891db35430588...</td>\n",
       "      <td>272.0</td>\n",
       "      <td>8371.00</td>\n",
       "      <td>1</td>\n",
       "      <td>0</td>\n",
       "      <td>0.0</td>\n",
       "      <td>0</td>\n",
       "      <td>8339</td>\n",
       "      <td>42.0</td>\n",
       "      <td>12381.0</td>\n",
       "      <td>-1.0</td>\n",
       "      <td>0</td>\n",
       "      <td>0</td>\n",
       "      <td>6.0</td>\n",
       "      <td>70.0</td>\n",
       "      <td>8339</td>\n",
       "      <td>0</td>\n",
       "      <td>-1.0</td>\n",
       "      <td>2</td>\n",
       "      <td>23</td>\n",
       "      <td>1</td>\n",
       "      <td>38</td>\n",
       "      <td>2</td>\n",
       "    </tr>\n",
       "    <tr>\n",
       "      <th>4</th>\n",
       "      <td>4b268e0da036f44cbbb056ddfac6a28ea336d9cf299843...</td>\n",
       "      <td>59</td>\n",
       "      <td>101937</td>\n",
       "      <td>27d235e691a425098f291105f78f9877e05bb75e1f132b...</td>\n",
       "      <td>763fd2a91420f9b632c378ca82ff9e318851fa1964cbba...</td>\n",
       "      <td>5</td>\n",
       "      <td>5.0</td>\n",
       "      <td>156987f72b8993b8c5a898fa76f3b8e6454e10e18aa238...</td>\n",
       "      <td>89b1654aaef0b65b1868004cfdce2dcbb67f15b7fba535...</td>\n",
       "      <td>217.0</td>\n",
       "      <td>163.69</td>\n",
       "      <td>1</td>\n",
       "      <td>0</td>\n",
       "      <td>0.0</td>\n",
       "      <td>0</td>\n",
       "      <td>163</td>\n",
       "      <td>126.0</td>\n",
       "      <td>14786.0</td>\n",
       "      <td>-1.0</td>\n",
       "      <td>0</td>\n",
       "      <td>0</td>\n",
       "      <td>6.0</td>\n",
       "      <td>68.0</td>\n",
       "      <td>5</td>\n",
       "      <td>0</td>\n",
       "      <td>-1.0</td>\n",
       "      <td>3</td>\n",
       "      <td>10</td>\n",
       "      <td>19</td>\n",
       "      <td>37</td>\n",
       "      <td>1</td>\n",
       "    </tr>\n",
       "    <tr>\n",
       "      <th>5</th>\n",
       "      <td>fd64ce519d3850ba9da4ee7fd0832222693193088e89dc...</td>\n",
       "      <td>59</td>\n",
       "      <td>152823</td>\n",
       "      <td>ee088992c8a0188647bd57018e2a0d32c5f572eab9ed5a...</td>\n",
       "      <td>f57fa89a86108807bb4c04dfc42a08d679ffeffe2fbee3...</td>\n",
       "      <td>5</td>\n",
       "      <td>5.0</td>\n",
       "      <td>c2f959592b9f6b1ea8fbe12e9a4a1ac0fd0b2543dd3fe3...</td>\n",
       "      <td>8f6b3ff512a001e0d1988c6cd888ef8c74112fb71117e5...</td>\n",
       "      <td>275.0</td>\n",
       "      <td>10.00</td>\n",
       "      <td>1</td>\n",
       "      <td>0</td>\n",
       "      <td>0.0</td>\n",
       "      <td>0</td>\n",
       "      <td>10</td>\n",
       "      <td>0.0</td>\n",
       "      <td>16115.0</td>\n",
       "      <td>-1.0</td>\n",
       "      <td>0</td>\n",
       "      <td>0</td>\n",
       "      <td>6.0</td>\n",
       "      <td>70.0</td>\n",
       "      <td>10</td>\n",
       "      <td>0</td>\n",
       "      <td>-1.0</td>\n",
       "      <td>3</td>\n",
       "      <td>15</td>\n",
       "      <td>28</td>\n",
       "      <td>23</td>\n",
       "      <td>1</td>\n",
       "    </tr>\n",
       "    <tr>\n",
       "      <th>6</th>\n",
       "      <td>0c93f45dac9454a159daacfd6bb1f63fabd6c75d92a47e...</td>\n",
       "      <td>59</td>\n",
       "      <td>113224</td>\n",
       "      <td>02bd712ddaae04c874f1d1f1d74069da69b99da1eef7a4...</td>\n",
       "      <td>2cd8983df4f8fac49c6bcb28432638d7bf538fd22ac920...</td>\n",
       "      <td>5</td>\n",
       "      <td>4.0</td>\n",
       "      <td>466f3ec97458ba5e90f0fab6fd7433c1e3ae9150e8229d...</td>\n",
       "      <td>d0c4efb29970311d8492fbfb19616b631f38593cafff95...</td>\n",
       "      <td>282.0</td>\n",
       "      <td>125.00</td>\n",
       "      <td>0</td>\n",
       "      <td>0</td>\n",
       "      <td>0.0</td>\n",
       "      <td>0</td>\n",
       "      <td>125</td>\n",
       "      <td>0.0</td>\n",
       "      <td>15759.0</td>\n",
       "      <td>-1.0</td>\n",
       "      <td>0</td>\n",
       "      <td>0</td>\n",
       "      <td>0.0</td>\n",
       "      <td>70.0</td>\n",
       "      <td>125</td>\n",
       "      <td>0</td>\n",
       "      <td>-1.0</td>\n",
       "      <td>3</td>\n",
       "      <td>11</td>\n",
       "      <td>32</td>\n",
       "      <td>24</td>\n",
       "      <td>1</td>\n",
       "    </tr>\n",
       "    <tr>\n",
       "      <th>7</th>\n",
       "      <td>f46b16150256c36df77817ccc9a8450e82532457dcb1ad...</td>\n",
       "      <td>56</td>\n",
       "      <td>131739</td>\n",
       "      <td>db35e8dbabf21f1ba960682dc66472ef9c5e3b2dcc26bf...</td>\n",
       "      <td>aa93e894a24e171f2eb9d2e48db31c0b6bc863a62d446a...</td>\n",
       "      <td>5</td>\n",
       "      <td>8.0</td>\n",
       "      <td>c76449edde6889cc61d4403b96b5fbe097b709fee4ee8a...</td>\n",
       "      <td>bcf6370b700fb26d1fab05dad5de442b2bf37689cb55fd...</td>\n",
       "      <td>320.0</td>\n",
       "      <td>55.00</td>\n",
       "      <td>1</td>\n",
       "      <td>0</td>\n",
       "      <td>0.0</td>\n",
       "      <td>0</td>\n",
       "      <td>55</td>\n",
       "      <td>0.0</td>\n",
       "      <td>15759.0</td>\n",
       "      <td>-1.0</td>\n",
       "      <td>0</td>\n",
       "      <td>0</td>\n",
       "      <td>6.0</td>\n",
       "      <td>70.0</td>\n",
       "      <td>55</td>\n",
       "      <td>0</td>\n",
       "      <td>-1.0</td>\n",
       "      <td>0</td>\n",
       "      <td>13</td>\n",
       "      <td>17</td>\n",
       "      <td>39</td>\n",
       "      <td>2</td>\n",
       "    </tr>\n",
       "    <tr>\n",
       "      <th>8</th>\n",
       "      <td>b62dc04dd4442d27e6a6c87ab82ad98b11f04737d54f97...</td>\n",
       "      <td>56</td>\n",
       "      <td>83744</td>\n",
       "      <td>c42029ff9987b7bce96c132adbcbf38bb05b9d50207f3b...</td>\n",
       "      <td>44265db723e26c1cfd830a1c8d9eb9fef540a806c75491...</td>\n",
       "      <td>5</td>\n",
       "      <td>5.0</td>\n",
       "      <td>e8d98e44151198526e079fdcc7f44c1e16be6f1fc2fb96...</td>\n",
       "      <td>379166ff4a62dac343b4b734188aa618716cc496e48b65...</td>\n",
       "      <td>276.0</td>\n",
       "      <td>222.00</td>\n",
       "      <td>1</td>\n",
       "      <td>0</td>\n",
       "      <td>0.0</td>\n",
       "      <td>0</td>\n",
       "      <td>222</td>\n",
       "      <td>0.0</td>\n",
       "      <td>15759.0</td>\n",
       "      <td>-1.0</td>\n",
       "      <td>0</td>\n",
       "      <td>0</td>\n",
       "      <td>6.0</td>\n",
       "      <td>70.0</td>\n",
       "      <td>222</td>\n",
       "      <td>0</td>\n",
       "      <td>-1.0</td>\n",
       "      <td>0</td>\n",
       "      <td>8</td>\n",
       "      <td>37</td>\n",
       "      <td>44</td>\n",
       "      <td>1</td>\n",
       "    </tr>\n",
       "    <tr>\n",
       "      <th>9</th>\n",
       "      <td>6f230b30cb79f7b5791348b2a0464cbc92682d94bdd8e9...</td>\n",
       "      <td>56</td>\n",
       "      <td>163138</td>\n",
       "      <td>30aeda17a7ad0a066e4a354460ee0ad0bf5098f6b1d76e...</td>\n",
       "      <td>2242b3ba5e82a24aff6fa4e54b871a4e677e53b0d1c4d2...</td>\n",
       "      <td>5</td>\n",
       "      <td>4.0</td>\n",
       "      <td>f6ed25e91e9858ae7ca6a24943175e6b9569a7ada6bd5e...</td>\n",
       "      <td>8f6b3ff512a001e0d1988c6cd888ef8c74112fb71117e5...</td>\n",
       "      <td>298.0</td>\n",
       "      <td>3090.00</td>\n",
       "      <td>0</td>\n",
       "      <td>0</td>\n",
       "      <td>0.0</td>\n",
       "      <td>0</td>\n",
       "      <td>3100</td>\n",
       "      <td>0.0</td>\n",
       "      <td>15759.0</td>\n",
       "      <td>-1.0</td>\n",
       "      <td>0</td>\n",
       "      <td>0</td>\n",
       "      <td>6.0</td>\n",
       "      <td>70.0</td>\n",
       "      <td>3100</td>\n",
       "      <td>0</td>\n",
       "      <td>-1.0</td>\n",
       "      <td>0</td>\n",
       "      <td>16</td>\n",
       "      <td>31</td>\n",
       "      <td>38</td>\n",
       "      <td>1</td>\n",
       "    </tr>\n",
       "  </tbody>\n",
       "</table>\n",
       "</div>"
      ],
      "text/plain": [
       "                                               txkey  locdt   loctm  \\\n",
       "0  a2c1209018e4e52e04f6fabb48f05f1b8bc09dc838ff6c...     56  105157   \n",
       "1  16c4880500059e01553789be11bbb50753b7acaae7b95b...     56  185520   \n",
       "2  623c56be3bee87724e3d119c271d9ed098eeda84233183...     59  102312   \n",
       "3  250da12187059cf6e3a3066656a2919d08ceb8207efd55...     58  230138   \n",
       "4  4b268e0da036f44cbbb056ddfac6a28ea336d9cf299843...     59  101937   \n",
       "5  fd64ce519d3850ba9da4ee7fd0832222693193088e89dc...     59  152823   \n",
       "6  0c93f45dac9454a159daacfd6bb1f63fabd6c75d92a47e...     59  113224   \n",
       "7  f46b16150256c36df77817ccc9a8450e82532457dcb1ad...     56  131739   \n",
       "8  b62dc04dd4442d27e6a6c87ab82ad98b11f04737d54f97...     56   83744   \n",
       "9  6f230b30cb79f7b5791348b2a0464cbc92682d94bdd8e9...     56  163138   \n",
       "\n",
       "                                                chid  \\\n",
       "0  d6d145d0d058e3f63b9ec421cf9e1543b0c3e059d18c2c...   \n",
       "1  b599fb83473599fa2df4a04136a668c28df7914293f1da...   \n",
       "2  8de197129150d454df1639e9743c1aa11b1c1122a2010c...   \n",
       "3  f9cbad08a76f1dd9736a4fc51255eb55637ec0a417a406...   \n",
       "4  27d235e691a425098f291105f78f9877e05bb75e1f132b...   \n",
       "5  ee088992c8a0188647bd57018e2a0d32c5f572eab9ed5a...   \n",
       "6  02bd712ddaae04c874f1d1f1d74069da69b99da1eef7a4...   \n",
       "7  db35e8dbabf21f1ba960682dc66472ef9c5e3b2dcc26bf...   \n",
       "8  c42029ff9987b7bce96c132adbcbf38bb05b9d50207f3b...   \n",
       "9  30aeda17a7ad0a066e4a354460ee0ad0bf5098f6b1d76e...   \n",
       "\n",
       "                                                cano  contp  etymd  \\\n",
       "0  9c454e0cf3680075b0382394ca59b00ee9435fd829da29...      4    1.0   \n",
       "1  9f097cba6a70333c906904ebaad438356cf75b6abf5dd4...      5    8.0   \n",
       "2  439691cb167b272661c2eb9073124f5d422f446b0f92fb...      5    1.0   \n",
       "3  992679b728784192c17e90939918cbfae32ad1222fad26...      5    5.0   \n",
       "4  763fd2a91420f9b632c378ca82ff9e318851fa1964cbba...      5    5.0   \n",
       "5  f57fa89a86108807bb4c04dfc42a08d679ffeffe2fbee3...      5    5.0   \n",
       "6  2cd8983df4f8fac49c6bcb28432638d7bf538fd22ac920...      5    4.0   \n",
       "7  aa93e894a24e171f2eb9d2e48db31c0b6bc863a62d446a...      5    8.0   \n",
       "8  44265db723e26c1cfd830a1c8d9eb9fef540a806c75491...      5    5.0   \n",
       "9  2242b3ba5e82a24aff6fa4e54b871a4e677e53b0d1c4d2...      5    4.0   \n",
       "\n",
       "                                               mchno  \\\n",
       "0  8be206f97d10b57a46ea0ef5527155a0f9b48d16255b70...   \n",
       "1  dd280b4f35a02701142ba7de47abb9736deca3eed86474...   \n",
       "2  9b2d5b4678781e53038e91ea5324530a03f27dc1d0e5f6...   \n",
       "3  bd2b3523b4ecd652445b75ea7583c92f6f02af3971251b...   \n",
       "4  156987f72b8993b8c5a898fa76f3b8e6454e10e18aa238...   \n",
       "5  c2f959592b9f6b1ea8fbe12e9a4a1ac0fd0b2543dd3fe3...   \n",
       "6  466f3ec97458ba5e90f0fab6fd7433c1e3ae9150e8229d...   \n",
       "7  c76449edde6889cc61d4403b96b5fbe097b709fee4ee8a...   \n",
       "8  e8d98e44151198526e079fdcc7f44c1e16be6f1fc2fb96...   \n",
       "9  f6ed25e91e9858ae7ca6a24943175e6b9569a7ada6bd5e...   \n",
       "\n",
       "                                               acqic    mcc    conam  ecfg  \\\n",
       "0  2a608b081c09492bd2bc96d7def5371c4bc9cabf324a98...  272.0  1353.00     0   \n",
       "1  46f63555d29f177290dfe20e989146fb033e453f1d5ff3...  320.0   305.00     1   \n",
       "2  9b2d5b4678781e53038e91ea5324530a03f27dc1d0e5f6...  494.0    20.00     0   \n",
       "3  70dac5b1dfde828f556a93321a649df72891db35430588...  272.0  8371.00     1   \n",
       "4  89b1654aaef0b65b1868004cfdce2dcbb67f15b7fba535...  217.0   163.69     1   \n",
       "5  8f6b3ff512a001e0d1988c6cd888ef8c74112fb71117e5...  275.0    10.00     1   \n",
       "6  d0c4efb29970311d8492fbfb19616b631f38593cafff95...  282.0   125.00     0   \n",
       "7  bcf6370b700fb26d1fab05dad5de442b2bf37689cb55fd...  320.0    55.00     1   \n",
       "8  379166ff4a62dac343b4b734188aa618716cc496e48b65...  276.0   222.00     1   \n",
       "9  8f6b3ff512a001e0d1988c6cd888ef8c74112fb71117e5...  298.0  3090.00     0   \n",
       "\n",
       "   insfg  iterm  bnsfg  flam1  stocn    scity  stscd  ovrlt  flbmk  hcefg  \\\n",
       "0      1    3.0      0   1349    0.0  15759.0   -1.0      0      0    6.0   \n",
       "1      0    0.0      0    306    0.0  13451.0   -1.0      0      0    6.0   \n",
       "2      0    0.0      0     20    0.0  15759.0   -1.0      0      0   -1.0   \n",
       "3      0    0.0      0   8339   42.0  12381.0   -1.0      0      0    6.0   \n",
       "4      0    0.0      0    163  126.0  14786.0   -1.0      0      0    6.0   \n",
       "5      0    0.0      0     10    0.0  16115.0   -1.0      0      0    6.0   \n",
       "6      0    0.0      0    125    0.0  15759.0   -1.0      0      0    0.0   \n",
       "7      0    0.0      0     55    0.0  15759.0   -1.0      0      0    6.0   \n",
       "8      0    0.0      0    222    0.0  15759.0   -1.0      0      0    6.0   \n",
       "9      0    0.0      0   3100    0.0  15759.0   -1.0      0      0    6.0   \n",
       "\n",
       "   csmcu  csmam  flg_3dsmk  label  weekday  h_loctm  m_loctm  s_loctm  cards  \n",
       "0   70.0   1349          0   -1.0        0       10       51       57      1  \n",
       "1   70.0    306          0   -1.0        0       18       55       20      2  \n",
       "2   -1.0      0          0   -1.0        3       10       23       12      1  \n",
       "3   70.0   8339          0   -1.0        2       23        1       38      2  \n",
       "4   68.0      5          0   -1.0        3       10       19       37      1  \n",
       "5   70.0     10          0   -1.0        3       15       28       23      1  \n",
       "6   70.0    125          0   -1.0        3       11       32       24      1  \n",
       "7   70.0     55          0   -1.0        0       13       17       39      2  \n",
       "8   70.0    222          0   -1.0        0        8       37       44      1  \n",
       "9   70.0   3100          0   -1.0        0       16       31       38      1  "
      ]
     },
     "execution_count": 62,
     "metadata": {},
     "output_type": "execute_result"
    }
   ],
   "source": [
    "df = df.fillna(-1)\n",
    "df.head(10)"
   ]
  },
  {
   "cell_type": "code",
   "execution_count": null,
   "metadata": {},
   "outputs": [],
   "source": [
    "idx = 'loctm'\n",
    "sns.countplot(x= idx, data=train[train['label']==0])\n",
    "plt.title(f'Distribution of {idx} in Normal Data')\n",
    "plt.show()"
   ]
  },
  {
   "cell_type": "code",
   "execution_count": null,
   "metadata": {},
   "outputs": [],
   "source": [
    "idx = 'loctm'\n",
    "sns.countplot(x= idx, data=train[train['label']==1])\n",
    "plt.title(f'Distribution of {idx} in Abormal Data')\n",
    "plt.show()"
   ]
  },
  {
   "cell_type": "markdown",
   "metadata": {},
   "source": [
    "正常跟異常資料的個數跟比例"
   ]
  },
  {
   "cell_type": "code",
   "execution_count": 7,
   "metadata": {},
   "outputs": [
    {
     "name": "stdout",
     "output_type": "stream",
     "text": [
      "8656497 32029\n"
     ]
    }
   ],
   "source": [
    "\n",
    "print((train['label']==0).sum(),(train['label']==1).sum())"
   ]
  },
  {
   "cell_type": "code",
   "execution_count": 6,
   "metadata": {},
   "outputs": [
    {
     "name": "stdout",
     "output_type": "stream",
     "text": [
      "percent:0.37%\n"
     ]
    }
   ],
   "source": [
    "print('percent:{:.2%}'.format(32029/8656497))"
   ]
  },
  {
   "cell_type": "markdown",
   "metadata": {},
   "source": [
    "## 缺失值檢查與填補"
   ]
  },
  {
   "cell_type": "code",
   "execution_count": 8,
   "metadata": {},
   "outputs": [
    {
     "data": {
      "text/plain": [
       "etymd     203455\n",
       "mcc         4550\n",
       "stocn        600\n",
       "scity     266066\n",
       "stscd    8665195\n",
       "hcefg     286656\n",
       "csmcu     498657\n",
       "dtype: int64"
      ]
     },
     "execution_count": 8,
     "metadata": {},
     "output_type": "execute_result"
    }
   ],
   "source": [
    "train.isna().sum()[train.isna().sum()>0]"
   ]
  },
  {
   "cell_type": "code",
   "execution_count": 115,
   "metadata": {},
   "outputs": [],
   "source": [
    "train = train.fillna(-1)"
   ]
  },
  {
   "cell_type": "code",
   "execution_count": 9,
   "metadata": {},
   "outputs": [],
   "source": [
    "# train.stscd = train.stscd.fillna(-1) #8665195\n",
    "# train.mcc = train.mcc.fillna(-1) #600\n",
    "# train.stocn = train.stocn.fillna(-1) #600"
   ]
  },
  {
   "cell_type": "code",
   "execution_count": 10,
   "metadata": {},
   "outputs": [
    {
     "data": {
      "text/plain": [
       "etymd    203455\n",
       "scity    266066\n",
       "hcefg    286656\n",
       "csmcu    498657\n",
       "dtype: int64"
      ]
     },
     "execution_count": 10,
     "metadata": {},
     "output_type": "execute_result"
    }
   ],
   "source": [
    "A = train.isna().sum()\n",
    "A[A>0]"
   ]
  },
  {
   "cell_type": "markdown",
   "metadata": {},
   "source": [
    "acqic在搞"
   ]
  },
  {
   "cell_type": "code",
   "execution_count": 275,
   "metadata": {},
   "outputs": [
    {
     "data": {
      "text/html": [
       "<div>\n",
       "<style scoped>\n",
       "    .dataframe tbody tr th:only-of-type {\n",
       "        vertical-align: middle;\n",
       "    }\n",
       "\n",
       "    .dataframe tbody tr th {\n",
       "        vertical-align: top;\n",
       "    }\n",
       "\n",
       "    .dataframe thead th {\n",
       "        text-align: right;\n",
       "    }\n",
       "</style>\n",
       "<table border=\"1\" class=\"dataframe\">\n",
       "  <thead>\n",
       "    <tr style=\"text-align: right;\">\n",
       "      <th></th>\n",
       "      <th>txkey</th>\n",
       "      <th>locdt</th>\n",
       "      <th>loctm</th>\n",
       "      <th>chid</th>\n",
       "      <th>cano</th>\n",
       "      <th>contp</th>\n",
       "      <th>etymd</th>\n",
       "      <th>mchno</th>\n",
       "      <th>acqic</th>\n",
       "      <th>mcc</th>\n",
       "      <th>conam</th>\n",
       "      <th>ecfg</th>\n",
       "      <th>insfg</th>\n",
       "      <th>iterm</th>\n",
       "      <th>bnsfg</th>\n",
       "      <th>flam1</th>\n",
       "      <th>stocn</th>\n",
       "      <th>scity</th>\n",
       "      <th>stscd</th>\n",
       "      <th>ovrlt</th>\n",
       "      <th>flbmk</th>\n",
       "      <th>hcefg</th>\n",
       "      <th>csmcu</th>\n",
       "      <th>csmam</th>\n",
       "      <th>flg_3dsmk</th>\n",
       "      <th>label</th>\n",
       "    </tr>\n",
       "  </thead>\n",
       "  <tbody>\n",
       "    <tr>\n",
       "      <th>6075042</th>\n",
       "      <td>c2fdf5bf7535734f8413aa9fcd87db9ffae360cbf036aa...</td>\n",
       "      <td>7</td>\n",
       "      <td>82028</td>\n",
       "      <td>d1e4a9a90d1a67f60c6212a9651f76a4f25e534e13df13...</td>\n",
       "      <td>04b400656e4ec85dc3369fe7448f41de238e2e938a0f1b...</td>\n",
       "      <td>5</td>\n",
       "      <td>NaN</td>\n",
       "      <td>4b184bc24ca32587f2468cfb1376a2f787512447dd1ab5...</td>\n",
       "      <td>4d349d9cd02873b7cc8519caea9b55bc716417aeb0547c...</td>\n",
       "      <td>495.0</td>\n",
       "      <td>500.0</td>\n",
       "      <td>0</td>\n",
       "      <td>0</td>\n",
       "      <td>0.0</td>\n",
       "      <td>0</td>\n",
       "      <td>502</td>\n",
       "      <td>0.0</td>\n",
       "      <td>NaN</td>\n",
       "      <td>NaN</td>\n",
       "      <td>0</td>\n",
       "      <td>0</td>\n",
       "      <td>6.0</td>\n",
       "      <td>NaN</td>\n",
       "      <td>502</td>\n",
       "      <td>0</td>\n",
       "      <td>0</td>\n",
       "    </tr>\n",
       "    <tr>\n",
       "      <th>8209901</th>\n",
       "      <td>f174e0c82bcbeb63157cdb31b2dc5879db7f942f8c625f...</td>\n",
       "      <td>20</td>\n",
       "      <td>123229</td>\n",
       "      <td>ddf228808e1bf4588e4d450e226f5c424c212fb1786697...</td>\n",
       "      <td>8c5086904f5150a6c71d505d7f34c5ba61948bbe7d9638...</td>\n",
       "      <td>5</td>\n",
       "      <td>NaN</td>\n",
       "      <td>4b184bc24ca32587f2468cfb1376a2f787512447dd1ab5...</td>\n",
       "      <td>4d349d9cd02873b7cc8519caea9b55bc716417aeb0547c...</td>\n",
       "      <td>495.0</td>\n",
       "      <td>500.0</td>\n",
       "      <td>0</td>\n",
       "      <td>0</td>\n",
       "      <td>0.0</td>\n",
       "      <td>0</td>\n",
       "      <td>499</td>\n",
       "      <td>0.0</td>\n",
       "      <td>NaN</td>\n",
       "      <td>NaN</td>\n",
       "      <td>0</td>\n",
       "      <td>0</td>\n",
       "      <td>6.0</td>\n",
       "      <td>NaN</td>\n",
       "      <td>499</td>\n",
       "      <td>0</td>\n",
       "      <td>0</td>\n",
       "    </tr>\n",
       "  </tbody>\n",
       "</table>\n",
       "</div>"
      ],
      "text/plain": [
       "                                                     txkey  locdt   loctm  \\\n",
       "6075042  c2fdf5bf7535734f8413aa9fcd87db9ffae360cbf036aa...      7   82028   \n",
       "8209901  f174e0c82bcbeb63157cdb31b2dc5879db7f942f8c625f...     20  123229   \n",
       "\n",
       "                                                      chid  \\\n",
       "6075042  d1e4a9a90d1a67f60c6212a9651f76a4f25e534e13df13...   \n",
       "8209901  ddf228808e1bf4588e4d450e226f5c424c212fb1786697...   \n",
       "\n",
       "                                                      cano  contp  etymd  \\\n",
       "6075042  04b400656e4ec85dc3369fe7448f41de238e2e938a0f1b...      5    NaN   \n",
       "8209901  8c5086904f5150a6c71d505d7f34c5ba61948bbe7d9638...      5    NaN   \n",
       "\n",
       "                                                     mchno  \\\n",
       "6075042  4b184bc24ca32587f2468cfb1376a2f787512447dd1ab5...   \n",
       "8209901  4b184bc24ca32587f2468cfb1376a2f787512447dd1ab5...   \n",
       "\n",
       "                                                     acqic    mcc  conam  \\\n",
       "6075042  4d349d9cd02873b7cc8519caea9b55bc716417aeb0547c...  495.0  500.0   \n",
       "8209901  4d349d9cd02873b7cc8519caea9b55bc716417aeb0547c...  495.0  500.0   \n",
       "\n",
       "         ecfg  insfg  iterm  bnsfg  flam1  stocn  scity  stscd  ovrlt  flbmk  \\\n",
       "6075042     0      0    0.0      0    502    0.0    NaN    NaN      0      0   \n",
       "8209901     0      0    0.0      0    499    0.0    NaN    NaN      0      0   \n",
       "\n",
       "         hcefg  csmcu  csmam  flg_3dsmk  label  \n",
       "6075042    6.0    NaN    502          0      0  \n",
       "8209901    6.0    NaN    499          0      0  "
      ]
     },
     "execution_count": 275,
     "metadata": {},
     "output_type": "execute_result"
    }
   ],
   "source": [
    "train[train.acqic=='4d349d9cd02873b7cc8519caea9b55bc716417aeb0547cfb16d9b9e20be23b91']"
   ]
  },
  {
   "cell_type": "code",
   "execution_count": 337,
   "metadata": {},
   "outputs": [
    {
     "data": {
      "text/plain": [
       "49             NaN\n",
       "64             NaN\n",
       "71             NaN\n",
       "76             NaN\n",
       "78             NaN\n",
       "            ...   \n",
       "8688415    15759.0\n",
       "8688432    15759.0\n",
       "8688484        NaN\n",
       "8688486    15759.0\n",
       "8688509        NaN\n",
       "Name: scity, Length: 529902, dtype: float64"
      ]
     },
     "execution_count": 337,
     "metadata": {},
     "output_type": "execute_result"
    }
   ],
   "source": [
    "# train[(train.stocn==0)&(train.scity.isna())].mchno.value_counts()\n",
    "#train[~train.mchno.isna()].mchno.value_counts()\n",
    "\n",
    "train[train.mchno.isin(train[train.scity.isna()].mchno.value_counts().index)].scity"
   ]
  },
  {
   "cell_type": "code",
   "execution_count": 284,
   "metadata": {},
   "outputs": [
    {
     "data": {
      "text/plain": [
       "acqic\n",
       "814437ad6838efec5e9ebd8600d37a984f221ca2f7a83fb66ccd80505e585745    114349\n",
       "8ccfdd7858e90e854599488e0f7453996a6268788bf36983ec81e10bc147f826     44449\n",
       "16e2a0ad7a09b6a46a5711b9f79965689383832e4e02dc270da0e35810306270      9056\n",
       "cf12b86a163b0dc6b9d671540aa04b0f533248c91add689f3560c9cc634273fb      7991\n",
       "760a1509f55f2f9f43f8253c2519fa64bd3b3a10f045b393499a454916369501      6506\n",
       "                                                                     ...  \n",
       "dfb3e02d7c907422a4e502b604e32e4f044dee206ffb8202aaa11726276ab8a7         1\n",
       "367f6aa227bb5a3051f45cc3c143d1a4e231516292a8242bb0ab1ff454aa704f         1\n",
       "9452bfd9c39f730e9941ad0498ef952a10bd260ce3084e7c01ac1f221ebd2ebc         1\n",
       "474f5ca19dde0bcf7f4d718f12b5bda6cd450744116dc08e8c4a89d0ad645bea         1\n",
       "d0596273fe357a0af39fc6beaefd9cb1317b40ca24e54355ff7a35dd318e92fa         1\n",
       "Name: count, Length: 5881, dtype: int64"
      ]
     },
     "execution_count": 284,
     "metadata": {},
     "output_type": "execute_result"
    }
   ],
   "source": [
    "train[(train.stocn==0)&(train.scity.isna())].acqic.value_counts()\n",
    "#len(train[train.acqic=='814437ad6838efec5e9ebd8600d37a984f221ca2f7a83fb66ccd80505e585745'])\n",
    "\n",
    "#train[train.acqic=='814437ad6838efec5e9ebd8600d37a984f221ca2f7a83fb66ccd80505e585745'].isna().sum()\n"
   ]
  },
  {
   "cell_type": "code",
   "execution_count": 237,
   "metadata": {},
   "outputs": [
    {
     "data": {
      "text/plain": [
       "csmcu\n",
       "70.0    7349441\n",
       "68.0      15733\n",
       "81.0          1\n",
       "Name: count, dtype: int64"
      ]
     },
     "execution_count": 237,
     "metadata": {},
     "output_type": "execute_result"
    }
   ],
   "source": [
    "train[train.stocn==0].csmcu.value_counts()"
   ]
  },
  {
   "cell_type": "code",
   "execution_count": 248,
   "metadata": {},
   "outputs": [
    {
     "data": {
      "text/plain": [
       "160"
      ]
     },
     "execution_count": 248,
     "metadata": {},
     "output_type": "execute_result"
    }
   ],
   "source": [
    "train[(train.csmcu==68)].stocn.isna().sum()"
   ]
  },
  {
   "cell_type": "code",
   "execution_count": 228,
   "metadata": {},
   "outputs": [
    {
     "data": {
      "text/html": [
       "<div>\n",
       "<style scoped>\n",
       "    .dataframe tbody tr th:only-of-type {\n",
       "        vertical-align: middle;\n",
       "    }\n",
       "\n",
       "    .dataframe tbody tr th {\n",
       "        vertical-align: top;\n",
       "    }\n",
       "\n",
       "    .dataframe thead th {\n",
       "        text-align: right;\n",
       "    }\n",
       "</style>\n",
       "<table border=\"1\" class=\"dataframe\">\n",
       "  <thead>\n",
       "    <tr style=\"text-align: right;\">\n",
       "      <th></th>\n",
       "      <th>txkey</th>\n",
       "      <th>locdt</th>\n",
       "      <th>loctm</th>\n",
       "      <th>chid</th>\n",
       "      <th>cano</th>\n",
       "      <th>contp</th>\n",
       "      <th>etymd</th>\n",
       "      <th>mchno</th>\n",
       "      <th>acqic</th>\n",
       "      <th>mcc</th>\n",
       "      <th>conam</th>\n",
       "      <th>ecfg</th>\n",
       "      <th>insfg</th>\n",
       "      <th>iterm</th>\n",
       "      <th>bnsfg</th>\n",
       "      <th>flam1</th>\n",
       "      <th>stocn</th>\n",
       "      <th>scity</th>\n",
       "      <th>stscd</th>\n",
       "      <th>ovrlt</th>\n",
       "      <th>flbmk</th>\n",
       "      <th>hcefg</th>\n",
       "      <th>csmcu</th>\n",
       "      <th>csmam</th>\n",
       "      <th>flg_3dsmk</th>\n",
       "      <th>label</th>\n",
       "    </tr>\n",
       "  </thead>\n",
       "  <tbody>\n",
       "    <tr>\n",
       "      <th>49</th>\n",
       "      <td>16679b5ed32d59fa97953f8fdc286959aef492c8a6595f...</td>\n",
       "      <td>28</td>\n",
       "      <td>174101</td>\n",
       "      <td>54a108762edf70d98b5039cfcb164e43ce6e2591d06338...</td>\n",
       "      <td>2e0c76da02b728454f46ca145be3bb653875d8f3a5afa8...</td>\n",
       "      <td>5</td>\n",
       "      <td>NaN</td>\n",
       "      <td>20ed456deae86bf216176c4e488ba5ce174e197208209e...</td>\n",
       "      <td>814437ad6838efec5e9ebd8600d37a984f221ca2f7a83f...</td>\n",
       "      <td>499.0</td>\n",
       "      <td>500.0</td>\n",
       "      <td>0</td>\n",
       "      <td>0</td>\n",
       "      <td>0.0</td>\n",
       "      <td>0</td>\n",
       "      <td>500</td>\n",
       "      <td>0.0</td>\n",
       "      <td>NaN</td>\n",
       "      <td>NaN</td>\n",
       "      <td>0</td>\n",
       "      <td>0</td>\n",
       "      <td>6.0</td>\n",
       "      <td>NaN</td>\n",
       "      <td>49955</td>\n",
       "      <td>0</td>\n",
       "      <td>0</td>\n",
       "    </tr>\n",
       "    <tr>\n",
       "      <th>64</th>\n",
       "      <td>8ad26d8a1ef96ed9ad70c2d9c3ec023381f498b56539fe...</td>\n",
       "      <td>7</td>\n",
       "      <td>154904</td>\n",
       "      <td>d1c0edf7f0db8706d33a83304ac95a67d230ef05994d7b...</td>\n",
       "      <td>87398a171b24efa432b5e2106a86b60e6d442e1e36bd08...</td>\n",
       "      <td>5</td>\n",
       "      <td>NaN</td>\n",
       "      <td>f1a36c672aaf32222b8c8ed023c6a8edfe5f8e52a781d7...</td>\n",
       "      <td>814437ad6838efec5e9ebd8600d37a984f221ca2f7a83f...</td>\n",
       "      <td>499.0</td>\n",
       "      <td>500.0</td>\n",
       "      <td>0</td>\n",
       "      <td>0</td>\n",
       "      <td>0.0</td>\n",
       "      <td>0</td>\n",
       "      <td>498</td>\n",
       "      <td>0.0</td>\n",
       "      <td>NaN</td>\n",
       "      <td>NaN</td>\n",
       "      <td>0</td>\n",
       "      <td>0</td>\n",
       "      <td>6.0</td>\n",
       "      <td>NaN</td>\n",
       "      <td>49765</td>\n",
       "      <td>0</td>\n",
       "      <td>0</td>\n",
       "    </tr>\n",
       "    <tr>\n",
       "      <th>71</th>\n",
       "      <td>0f722184ac164224078b5ccbe5196d528651734de76d99...</td>\n",
       "      <td>21</td>\n",
       "      <td>105508</td>\n",
       "      <td>70c093f32abca8aba41e3bc34e95399ba3df425ae44d09...</td>\n",
       "      <td>81b8a68577be5ef936eaf91eb9d324113672a8c92f306b...</td>\n",
       "      <td>5</td>\n",
       "      <td>NaN</td>\n",
       "      <td>0bd7da8c4387afa9a1d96367ed0436ab28fb07b0bb9a84...</td>\n",
       "      <td>814437ad6838efec5e9ebd8600d37a984f221ca2f7a83f...</td>\n",
       "      <td>499.0</td>\n",
       "      <td>500.0</td>\n",
       "      <td>0</td>\n",
       "      <td>0</td>\n",
       "      <td>0.0</td>\n",
       "      <td>0</td>\n",
       "      <td>502</td>\n",
       "      <td>0.0</td>\n",
       "      <td>NaN</td>\n",
       "      <td>NaN</td>\n",
       "      <td>0</td>\n",
       "      <td>0</td>\n",
       "      <td>6.0</td>\n",
       "      <td>NaN</td>\n",
       "      <td>50200</td>\n",
       "      <td>0</td>\n",
       "      <td>0</td>\n",
       "    </tr>\n",
       "    <tr>\n",
       "      <th>76</th>\n",
       "      <td>5e58377aaa4c56394727f1ab11761c55a9740fe7c9a560...</td>\n",
       "      <td>3</td>\n",
       "      <td>143109</td>\n",
       "      <td>1dfd565c8559c67975e37eb6809d306e4104f6c0a51819...</td>\n",
       "      <td>1d9556ee39c334dfe88dfdd72da82d23e68a5549118f3a...</td>\n",
       "      <td>5</td>\n",
       "      <td>NaN</td>\n",
       "      <td>0bd7da8c4387afa9a1d96367ed0436ab28fb07b0bb9a84...</td>\n",
       "      <td>814437ad6838efec5e9ebd8600d37a984f221ca2f7a83f...</td>\n",
       "      <td>499.0</td>\n",
       "      <td>500.0</td>\n",
       "      <td>0</td>\n",
       "      <td>0</td>\n",
       "      <td>0.0</td>\n",
       "      <td>0</td>\n",
       "      <td>499</td>\n",
       "      <td>0.0</td>\n",
       "      <td>NaN</td>\n",
       "      <td>NaN</td>\n",
       "      <td>0</td>\n",
       "      <td>0</td>\n",
       "      <td>6.0</td>\n",
       "      <td>NaN</td>\n",
       "      <td>49905</td>\n",
       "      <td>0</td>\n",
       "      <td>0</td>\n",
       "    </tr>\n",
       "    <tr>\n",
       "      <th>78</th>\n",
       "      <td>b3322bd18354880198968eaa1e7ff7b4df7bbe92fbe1e1...</td>\n",
       "      <td>19</td>\n",
       "      <td>164910</td>\n",
       "      <td>8da02baf0edd588464de1c8ee304564a0b0e8fed4d9a01...</td>\n",
       "      <td>78b20f5ebec33ec09889a954c93f877aa67ac266daf69b...</td>\n",
       "      <td>5</td>\n",
       "      <td>NaN</td>\n",
       "      <td>0bd7da8c4387afa9a1d96367ed0436ab28fb07b0bb9a84...</td>\n",
       "      <td>814437ad6838efec5e9ebd8600d37a984f221ca2f7a83f...</td>\n",
       "      <td>499.0</td>\n",
       "      <td>500.0</td>\n",
       "      <td>0</td>\n",
       "      <td>0</td>\n",
       "      <td>0.0</td>\n",
       "      <td>0</td>\n",
       "      <td>500</td>\n",
       "      <td>0.0</td>\n",
       "      <td>NaN</td>\n",
       "      <td>NaN</td>\n",
       "      <td>0</td>\n",
       "      <td>0</td>\n",
       "      <td>6.0</td>\n",
       "      <td>NaN</td>\n",
       "      <td>50050</td>\n",
       "      <td>0</td>\n",
       "      <td>0</td>\n",
       "    </tr>\n",
       "    <tr>\n",
       "      <th>...</th>\n",
       "      <td>...</td>\n",
       "      <td>...</td>\n",
       "      <td>...</td>\n",
       "      <td>...</td>\n",
       "      <td>...</td>\n",
       "      <td>...</td>\n",
       "      <td>...</td>\n",
       "      <td>...</td>\n",
       "      <td>...</td>\n",
       "      <td>...</td>\n",
       "      <td>...</td>\n",
       "      <td>...</td>\n",
       "      <td>...</td>\n",
       "      <td>...</td>\n",
       "      <td>...</td>\n",
       "      <td>...</td>\n",
       "      <td>...</td>\n",
       "      <td>...</td>\n",
       "      <td>...</td>\n",
       "      <td>...</td>\n",
       "      <td>...</td>\n",
       "      <td>...</td>\n",
       "      <td>...</td>\n",
       "      <td>...</td>\n",
       "      <td>...</td>\n",
       "      <td>...</td>\n",
       "    </tr>\n",
       "    <tr>\n",
       "      <th>8688415</th>\n",
       "      <td>4ce931d97e9a1808b993033dcfa0eaa390b7b88639935a...</td>\n",
       "      <td>0</td>\n",
       "      <td>83659</td>\n",
       "      <td>ee4d9637b817b74a092d795f72d42bdde6b3f1b66316cf...</td>\n",
       "      <td>b2ad42da4ea14e90784ddb5b173dd4ee25b60ae3c89a73...</td>\n",
       "      <td>5</td>\n",
       "      <td>1.0</td>\n",
       "      <td>9b2d5b4678781e53038e91ea5324530a03f27dc1d0e5f6...</td>\n",
       "      <td>9b2d5b4678781e53038e91ea5324530a03f27dc1d0e5f6...</td>\n",
       "      <td>493.0</td>\n",
       "      <td>400.0</td>\n",
       "      <td>0</td>\n",
       "      <td>0</td>\n",
       "      <td>0.0</td>\n",
       "      <td>0</td>\n",
       "      <td>399</td>\n",
       "      <td>0.0</td>\n",
       "      <td>15759.0</td>\n",
       "      <td>NaN</td>\n",
       "      <td>0</td>\n",
       "      <td>0</td>\n",
       "      <td>NaN</td>\n",
       "      <td>NaN</td>\n",
       "      <td>0</td>\n",
       "      <td>0</td>\n",
       "      <td>0</td>\n",
       "    </tr>\n",
       "    <tr>\n",
       "      <th>8688432</th>\n",
       "      <td>80d29b6739a4de25492bb8a0c1709768dd3e423c4cc6dc...</td>\n",
       "      <td>14</td>\n",
       "      <td>102919</td>\n",
       "      <td>1bd4751bd62b6d5c5ad056e7c653ce14f81bd35027a24f...</td>\n",
       "      <td>5aaf943cc44f5d9371542a572654d5e03ad4e1999833a8...</td>\n",
       "      <td>5</td>\n",
       "      <td>1.0</td>\n",
       "      <td>9b2d5b4678781e53038e91ea5324530a03f27dc1d0e5f6...</td>\n",
       "      <td>9b2d5b4678781e53038e91ea5324530a03f27dc1d0e5f6...</td>\n",
       "      <td>494.0</td>\n",
       "      <td>20.0</td>\n",
       "      <td>0</td>\n",
       "      <td>0</td>\n",
       "      <td>0.0</td>\n",
       "      <td>0</td>\n",
       "      <td>20</td>\n",
       "      <td>0.0</td>\n",
       "      <td>15759.0</td>\n",
       "      <td>NaN</td>\n",
       "      <td>0</td>\n",
       "      <td>0</td>\n",
       "      <td>NaN</td>\n",
       "      <td>NaN</td>\n",
       "      <td>0</td>\n",
       "      <td>0</td>\n",
       "      <td>0</td>\n",
       "    </tr>\n",
       "    <tr>\n",
       "      <th>8688484</th>\n",
       "      <td>2a820b46eae154c569f473e47745a39f4dfda15aace940...</td>\n",
       "      <td>16</td>\n",
       "      <td>143106</td>\n",
       "      <td>f0b481311a81fba645a005599c764cabeacd21a10ac417...</td>\n",
       "      <td>70dfc1fbf29fd5a556f9ac39e5455832106d539422b4bb...</td>\n",
       "      <td>5</td>\n",
       "      <td>NaN</td>\n",
       "      <td>6b0f2ca4ce5589561bcc92866f9e118dc03ffc82f63769...</td>\n",
       "      <td>8ccfdd7858e90e854599488e0f7453996a6268788bf369...</td>\n",
       "      <td>499.0</td>\n",
       "      <td>500.0</td>\n",
       "      <td>0</td>\n",
       "      <td>0</td>\n",
       "      <td>0.0</td>\n",
       "      <td>0</td>\n",
       "      <td>501</td>\n",
       "      <td>0.0</td>\n",
       "      <td>NaN</td>\n",
       "      <td>NaN</td>\n",
       "      <td>0</td>\n",
       "      <td>0</td>\n",
       "      <td>6.0</td>\n",
       "      <td>NaN</td>\n",
       "      <td>50070</td>\n",
       "      <td>0</td>\n",
       "      <td>0</td>\n",
       "    </tr>\n",
       "    <tr>\n",
       "      <th>8688486</th>\n",
       "      <td>de101459f39f9bf3073e2f1d6d8ed18cf82bad16fe0862...</td>\n",
       "      <td>14</td>\n",
       "      <td>101836</td>\n",
       "      <td>5fb5c9769732acc1a614b6d2d8ba7fef602d9570996d4d...</td>\n",
       "      <td>21840da738267c8686f50b399a294529cf257da4ded950...</td>\n",
       "      <td>5</td>\n",
       "      <td>1.0</td>\n",
       "      <td>9b2d5b4678781e53038e91ea5324530a03f27dc1d0e5f6...</td>\n",
       "      <td>9b2d5b4678781e53038e91ea5324530a03f27dc1d0e5f6...</td>\n",
       "      <td>494.0</td>\n",
       "      <td>60.0</td>\n",
       "      <td>0</td>\n",
       "      <td>0</td>\n",
       "      <td>0.0</td>\n",
       "      <td>0</td>\n",
       "      <td>60</td>\n",
       "      <td>0.0</td>\n",
       "      <td>15759.0</td>\n",
       "      <td>NaN</td>\n",
       "      <td>0</td>\n",
       "      <td>0</td>\n",
       "      <td>NaN</td>\n",
       "      <td>NaN</td>\n",
       "      <td>0</td>\n",
       "      <td>0</td>\n",
       "      <td>0</td>\n",
       "    </tr>\n",
       "    <tr>\n",
       "      <th>8688509</th>\n",
       "      <td>71daa1e80c664bcdbf7128944fd467ba8007e44eb1e7f1...</td>\n",
       "      <td>21</td>\n",
       "      <td>192551</td>\n",
       "      <td>792106462a71852e2487d36ec6c629ed8197b437d3d835...</td>\n",
       "      <td>318cc11bc84b3807c0d4fe993d21321a0559574a6b881d...</td>\n",
       "      <td>5</td>\n",
       "      <td>NaN</td>\n",
       "      <td>ea2f2f9e85b8782f8493dfeef7dd3cfa6f9d107e70b987...</td>\n",
       "      <td>8ccfdd7858e90e854599488e0f7453996a6268788bf369...</td>\n",
       "      <td>499.0</td>\n",
       "      <td>500.0</td>\n",
       "      <td>0</td>\n",
       "      <td>0</td>\n",
       "      <td>0.0</td>\n",
       "      <td>0</td>\n",
       "      <td>501</td>\n",
       "      <td>0.0</td>\n",
       "      <td>NaN</td>\n",
       "      <td>NaN</td>\n",
       "      <td>0</td>\n",
       "      <td>0</td>\n",
       "      <td>6.0</td>\n",
       "      <td>NaN</td>\n",
       "      <td>50145</td>\n",
       "      <td>0</td>\n",
       "      <td>0</td>\n",
       "    </tr>\n",
       "  </tbody>\n",
       "</table>\n",
       "<p>462815 rows × 26 columns</p>\n",
       "</div>"
      ],
      "text/plain": [
       "                                                     txkey  locdt   loctm  \\\n",
       "49       16679b5ed32d59fa97953f8fdc286959aef492c8a6595f...     28  174101   \n",
       "64       8ad26d8a1ef96ed9ad70c2d9c3ec023381f498b56539fe...      7  154904   \n",
       "71       0f722184ac164224078b5ccbe5196d528651734de76d99...     21  105508   \n",
       "76       5e58377aaa4c56394727f1ab11761c55a9740fe7c9a560...      3  143109   \n",
       "78       b3322bd18354880198968eaa1e7ff7b4df7bbe92fbe1e1...     19  164910   \n",
       "...                                                    ...    ...     ...   \n",
       "8688415  4ce931d97e9a1808b993033dcfa0eaa390b7b88639935a...      0   83659   \n",
       "8688432  80d29b6739a4de25492bb8a0c1709768dd3e423c4cc6dc...     14  102919   \n",
       "8688484  2a820b46eae154c569f473e47745a39f4dfda15aace940...     16  143106   \n",
       "8688486  de101459f39f9bf3073e2f1d6d8ed18cf82bad16fe0862...     14  101836   \n",
       "8688509  71daa1e80c664bcdbf7128944fd467ba8007e44eb1e7f1...     21  192551   \n",
       "\n",
       "                                                      chid  \\\n",
       "49       54a108762edf70d98b5039cfcb164e43ce6e2591d06338...   \n",
       "64       d1c0edf7f0db8706d33a83304ac95a67d230ef05994d7b...   \n",
       "71       70c093f32abca8aba41e3bc34e95399ba3df425ae44d09...   \n",
       "76       1dfd565c8559c67975e37eb6809d306e4104f6c0a51819...   \n",
       "78       8da02baf0edd588464de1c8ee304564a0b0e8fed4d9a01...   \n",
       "...                                                    ...   \n",
       "8688415  ee4d9637b817b74a092d795f72d42bdde6b3f1b66316cf...   \n",
       "8688432  1bd4751bd62b6d5c5ad056e7c653ce14f81bd35027a24f...   \n",
       "8688484  f0b481311a81fba645a005599c764cabeacd21a10ac417...   \n",
       "8688486  5fb5c9769732acc1a614b6d2d8ba7fef602d9570996d4d...   \n",
       "8688509  792106462a71852e2487d36ec6c629ed8197b437d3d835...   \n",
       "\n",
       "                                                      cano  contp  etymd  \\\n",
       "49       2e0c76da02b728454f46ca145be3bb653875d8f3a5afa8...      5    NaN   \n",
       "64       87398a171b24efa432b5e2106a86b60e6d442e1e36bd08...      5    NaN   \n",
       "71       81b8a68577be5ef936eaf91eb9d324113672a8c92f306b...      5    NaN   \n",
       "76       1d9556ee39c334dfe88dfdd72da82d23e68a5549118f3a...      5    NaN   \n",
       "78       78b20f5ebec33ec09889a954c93f877aa67ac266daf69b...      5    NaN   \n",
       "...                                                    ...    ...    ...   \n",
       "8688415  b2ad42da4ea14e90784ddb5b173dd4ee25b60ae3c89a73...      5    1.0   \n",
       "8688432  5aaf943cc44f5d9371542a572654d5e03ad4e1999833a8...      5    1.0   \n",
       "8688484  70dfc1fbf29fd5a556f9ac39e5455832106d539422b4bb...      5    NaN   \n",
       "8688486  21840da738267c8686f50b399a294529cf257da4ded950...      5    1.0   \n",
       "8688509  318cc11bc84b3807c0d4fe993d21321a0559574a6b881d...      5    NaN   \n",
       "\n",
       "                                                     mchno  \\\n",
       "49       20ed456deae86bf216176c4e488ba5ce174e197208209e...   \n",
       "64       f1a36c672aaf32222b8c8ed023c6a8edfe5f8e52a781d7...   \n",
       "71       0bd7da8c4387afa9a1d96367ed0436ab28fb07b0bb9a84...   \n",
       "76       0bd7da8c4387afa9a1d96367ed0436ab28fb07b0bb9a84...   \n",
       "78       0bd7da8c4387afa9a1d96367ed0436ab28fb07b0bb9a84...   \n",
       "...                                                    ...   \n",
       "8688415  9b2d5b4678781e53038e91ea5324530a03f27dc1d0e5f6...   \n",
       "8688432  9b2d5b4678781e53038e91ea5324530a03f27dc1d0e5f6...   \n",
       "8688484  6b0f2ca4ce5589561bcc92866f9e118dc03ffc82f63769...   \n",
       "8688486  9b2d5b4678781e53038e91ea5324530a03f27dc1d0e5f6...   \n",
       "8688509  ea2f2f9e85b8782f8493dfeef7dd3cfa6f9d107e70b987...   \n",
       "\n",
       "                                                     acqic    mcc  conam  \\\n",
       "49       814437ad6838efec5e9ebd8600d37a984f221ca2f7a83f...  499.0  500.0   \n",
       "64       814437ad6838efec5e9ebd8600d37a984f221ca2f7a83f...  499.0  500.0   \n",
       "71       814437ad6838efec5e9ebd8600d37a984f221ca2f7a83f...  499.0  500.0   \n",
       "76       814437ad6838efec5e9ebd8600d37a984f221ca2f7a83f...  499.0  500.0   \n",
       "78       814437ad6838efec5e9ebd8600d37a984f221ca2f7a83f...  499.0  500.0   \n",
       "...                                                    ...    ...    ...   \n",
       "8688415  9b2d5b4678781e53038e91ea5324530a03f27dc1d0e5f6...  493.0  400.0   \n",
       "8688432  9b2d5b4678781e53038e91ea5324530a03f27dc1d0e5f6...  494.0   20.0   \n",
       "8688484  8ccfdd7858e90e854599488e0f7453996a6268788bf369...  499.0  500.0   \n",
       "8688486  9b2d5b4678781e53038e91ea5324530a03f27dc1d0e5f6...  494.0   60.0   \n",
       "8688509  8ccfdd7858e90e854599488e0f7453996a6268788bf369...  499.0  500.0   \n",
       "\n",
       "         ecfg  insfg  iterm  bnsfg  flam1  stocn    scity  stscd  ovrlt  \\\n",
       "49          0      0    0.0      0    500    0.0      NaN    NaN      0   \n",
       "64          0      0    0.0      0    498    0.0      NaN    NaN      0   \n",
       "71          0      0    0.0      0    502    0.0      NaN    NaN      0   \n",
       "76          0      0    0.0      0    499    0.0      NaN    NaN      0   \n",
       "78          0      0    0.0      0    500    0.0      NaN    NaN      0   \n",
       "...       ...    ...    ...    ...    ...    ...      ...    ...    ...   \n",
       "8688415     0      0    0.0      0    399    0.0  15759.0    NaN      0   \n",
       "8688432     0      0    0.0      0     20    0.0  15759.0    NaN      0   \n",
       "8688484     0      0    0.0      0    501    0.0      NaN    NaN      0   \n",
       "8688486     0      0    0.0      0     60    0.0  15759.0    NaN      0   \n",
       "8688509     0      0    0.0      0    501    0.0      NaN    NaN      0   \n",
       "\n",
       "         flbmk  hcefg  csmcu  csmam  flg_3dsmk  label  \n",
       "49           0    6.0    NaN  49955          0      0  \n",
       "64           0    6.0    NaN  49765          0      0  \n",
       "71           0    6.0    NaN  50200          0      0  \n",
       "76           0    6.0    NaN  49905          0      0  \n",
       "78           0    6.0    NaN  50050          0      0  \n",
       "...        ...    ...    ...    ...        ...    ...  \n",
       "8688415      0    NaN    NaN      0          0      0  \n",
       "8688432      0    NaN    NaN      0          0      0  \n",
       "8688484      0    6.0    NaN  50070          0      0  \n",
       "8688486      0    NaN    NaN      0          0      0  \n",
       "8688509      0    6.0    NaN  50145          0      0  \n",
       "\n",
       "[462815 rows x 26 columns]"
      ]
     },
     "execution_count": 228,
     "metadata": {},
     "output_type": "execute_result"
    }
   ],
   "source": [
    "train[(train.stocn==0)&(train.csmcu.isna())]"
   ]
  },
  {
   "cell_type": "code",
   "execution_count": 225,
   "metadata": {},
   "outputs": [
    {
     "data": {
      "text/plain": [
       "csmcu\n",
       "70.0    7947443\n",
       "68.0     122569\n",
       "81.0      27575\n",
       "29.0      27074\n",
       "76.0      12450\n",
       "         ...   \n",
       "80.0          2\n",
       "5.0           1\n",
       "21.0          1\n",
       "83.0          1\n",
       "4.0           1\n",
       "Name: count, Length: 79, dtype: int64"
      ]
     },
     "execution_count": 225,
     "metadata": {},
     "output_type": "execute_result"
    }
   ],
   "source": [
    "train.csmcu.value_counts()"
   ]
  },
  {
   "cell_type": "code",
   "execution_count": 224,
   "metadata": {},
   "outputs": [
    {
     "data": {
      "text/html": [
       "<div>\n",
       "<style scoped>\n",
       "    .dataframe tbody tr th:only-of-type {\n",
       "        vertical-align: middle;\n",
       "    }\n",
       "\n",
       "    .dataframe tbody tr th {\n",
       "        vertical-align: top;\n",
       "    }\n",
       "\n",
       "    .dataframe thead th {\n",
       "        text-align: right;\n",
       "    }\n",
       "</style>\n",
       "<table border=\"1\" class=\"dataframe\">\n",
       "  <thead>\n",
       "    <tr style=\"text-align: right;\">\n",
       "      <th></th>\n",
       "      <th>txkey</th>\n",
       "      <th>locdt</th>\n",
       "      <th>loctm</th>\n",
       "      <th>chid</th>\n",
       "      <th>cano</th>\n",
       "      <th>contp</th>\n",
       "      <th>etymd</th>\n",
       "      <th>mchno</th>\n",
       "      <th>acqic</th>\n",
       "      <th>mcc</th>\n",
       "      <th>conam</th>\n",
       "      <th>ecfg</th>\n",
       "      <th>insfg</th>\n",
       "      <th>iterm</th>\n",
       "      <th>bnsfg</th>\n",
       "      <th>flam1</th>\n",
       "      <th>stocn</th>\n",
       "      <th>scity</th>\n",
       "      <th>stscd</th>\n",
       "      <th>ovrlt</th>\n",
       "      <th>flbmk</th>\n",
       "      <th>hcefg</th>\n",
       "      <th>csmcu</th>\n",
       "      <th>csmam</th>\n",
       "      <th>flg_3dsmk</th>\n",
       "      <th>label</th>\n",
       "    </tr>\n",
       "  </thead>\n",
       "  <tbody>\n",
       "    <tr>\n",
       "      <th>21205</th>\n",
       "      <td>f94753408bc6ddc079b395c38256db19c5d1bb8bb6f692...</td>\n",
       "      <td>26</td>\n",
       "      <td>75652</td>\n",
       "      <td>9adf180bf1491b4cba3a021201076b04e8fc51e802365b...</td>\n",
       "      <td>e7f56d2d90f07715c5fc8d62634ea35f00779297b72fe4...</td>\n",
       "      <td>5</td>\n",
       "      <td>1.0</td>\n",
       "      <td>907e2b1e5adf39ca1f65b6e8251c41f74537ebdb3118e2...</td>\n",
       "      <td>ea8724e1181e9a7318604aa768bb5cfbfca5b85c75b1b7...</td>\n",
       "      <td>486.0</td>\n",
       "      <td>4270.09</td>\n",
       "      <td>0</td>\n",
       "      <td>0</td>\n",
       "      <td>0.0</td>\n",
       "      <td>0</td>\n",
       "      <td>4291</td>\n",
       "      <td>NaN</td>\n",
       "      <td>NaN</td>\n",
       "      <td>NaN</td>\n",
       "      <td>0</td>\n",
       "      <td>0</td>\n",
       "      <td>6.0</td>\n",
       "      <td>70.0</td>\n",
       "      <td>4291</td>\n",
       "      <td>0</td>\n",
       "      <td>1</td>\n",
       "    </tr>\n",
       "    <tr>\n",
       "      <th>853441</th>\n",
       "      <td>2162163ecedd706a55e601fb718a95a86e2b219e246e12...</td>\n",
       "      <td>28</td>\n",
       "      <td>63144</td>\n",
       "      <td>9adf180bf1491b4cba3a021201076b04e8fc51e802365b...</td>\n",
       "      <td>e7f56d2d90f07715c5fc8d62634ea35f00779297b72fe4...</td>\n",
       "      <td>5</td>\n",
       "      <td>1.0</td>\n",
       "      <td>907e2b1e5adf39ca1f65b6e8251c41f74537ebdb3118e2...</td>\n",
       "      <td>ea8724e1181e9a7318604aa768bb5cfbfca5b85c75b1b7...</td>\n",
       "      <td>486.0</td>\n",
       "      <td>5539.58</td>\n",
       "      <td>0</td>\n",
       "      <td>0</td>\n",
       "      <td>0.0</td>\n",
       "      <td>0</td>\n",
       "      <td>5566</td>\n",
       "      <td>NaN</td>\n",
       "      <td>NaN</td>\n",
       "      <td>NaN</td>\n",
       "      <td>0</td>\n",
       "      <td>0</td>\n",
       "      <td>6.0</td>\n",
       "      <td>70.0</td>\n",
       "      <td>5566</td>\n",
       "      <td>0</td>\n",
       "      <td>1</td>\n",
       "    </tr>\n",
       "    <tr>\n",
       "      <th>5199370</th>\n",
       "      <td>8dec519fddc54767f0ea2c722abab00c7dbd937ca3e38c...</td>\n",
       "      <td>25</td>\n",
       "      <td>51223</td>\n",
       "      <td>9adf180bf1491b4cba3a021201076b04e8fc51e802365b...</td>\n",
       "      <td>e7f56d2d90f07715c5fc8d62634ea35f00779297b72fe4...</td>\n",
       "      <td>5</td>\n",
       "      <td>1.0</td>\n",
       "      <td>907e2b1e5adf39ca1f65b6e8251c41f74537ebdb3118e2...</td>\n",
       "      <td>ea8724e1181e9a7318604aa768bb5cfbfca5b85c75b1b7...</td>\n",
       "      <td>486.0</td>\n",
       "      <td>2.32</td>\n",
       "      <td>0</td>\n",
       "      <td>0</td>\n",
       "      <td>0.0</td>\n",
       "      <td>0</td>\n",
       "      <td>2</td>\n",
       "      <td>NaN</td>\n",
       "      <td>NaN</td>\n",
       "      <td>NaN</td>\n",
       "      <td>0</td>\n",
       "      <td>0</td>\n",
       "      <td>6.0</td>\n",
       "      <td>70.0</td>\n",
       "      <td>2</td>\n",
       "      <td>0</td>\n",
       "      <td>1</td>\n",
       "    </tr>\n",
       "    <tr>\n",
       "      <th>5467611</th>\n",
       "      <td>20d4ad186461b724b82a312bcc9c5507800f2440d8a375...</td>\n",
       "      <td>28</td>\n",
       "      <td>62632</td>\n",
       "      <td>9adf180bf1491b4cba3a021201076b04e8fc51e802365b...</td>\n",
       "      <td>e7f56d2d90f07715c5fc8d62634ea35f00779297b72fe4...</td>\n",
       "      <td>5</td>\n",
       "      <td>1.0</td>\n",
       "      <td>907e2b1e5adf39ca1f65b6e8251c41f74537ebdb3118e2...</td>\n",
       "      <td>ea8724e1181e9a7318604aa768bb5cfbfca5b85c75b1b7...</td>\n",
       "      <td>486.0</td>\n",
       "      <td>8540.18</td>\n",
       "      <td>0</td>\n",
       "      <td>0</td>\n",
       "      <td>0.0</td>\n",
       "      <td>0</td>\n",
       "      <td>8581</td>\n",
       "      <td>NaN</td>\n",
       "      <td>NaN</td>\n",
       "      <td>NaN</td>\n",
       "      <td>0</td>\n",
       "      <td>0</td>\n",
       "      <td>6.0</td>\n",
       "      <td>70.0</td>\n",
       "      <td>8581</td>\n",
       "      <td>0</td>\n",
       "      <td>1</td>\n",
       "    </tr>\n",
       "    <tr>\n",
       "      <th>6974601</th>\n",
       "      <td>56bf1f835d23c437fbb3c178411f82ef7251c0fdd71bb6...</td>\n",
       "      <td>28</td>\n",
       "      <td>62631</td>\n",
       "      <td>9adf180bf1491b4cba3a021201076b04e8fc51e802365b...</td>\n",
       "      <td>e7f56d2d90f07715c5fc8d62634ea35f00779297b72fe4...</td>\n",
       "      <td>5</td>\n",
       "      <td>1.0</td>\n",
       "      <td>907e2b1e5adf39ca1f65b6e8251c41f74537ebdb3118e2...</td>\n",
       "      <td>ea8724e1181e9a7318604aa768bb5cfbfca5b85c75b1b7...</td>\n",
       "      <td>486.0</td>\n",
       "      <td>2.31</td>\n",
       "      <td>0</td>\n",
       "      <td>0</td>\n",
       "      <td>0.0</td>\n",
       "      <td>0</td>\n",
       "      <td>2</td>\n",
       "      <td>NaN</td>\n",
       "      <td>NaN</td>\n",
       "      <td>NaN</td>\n",
       "      <td>0</td>\n",
       "      <td>0</td>\n",
       "      <td>6.0</td>\n",
       "      <td>70.0</td>\n",
       "      <td>2</td>\n",
       "      <td>0</td>\n",
       "      <td>1</td>\n",
       "    </tr>\n",
       "    <tr>\n",
       "      <th>7201705</th>\n",
       "      <td>d2cb1b58a3f81fa607bd98eed3350ff247f1181d8cc065...</td>\n",
       "      <td>28</td>\n",
       "      <td>63143</td>\n",
       "      <td>9adf180bf1491b4cba3a021201076b04e8fc51e802365b...</td>\n",
       "      <td>e7f56d2d90f07715c5fc8d62634ea35f00779297b72fe4...</td>\n",
       "      <td>5</td>\n",
       "      <td>1.0</td>\n",
       "      <td>907e2b1e5adf39ca1f65b6e8251c41f74537ebdb3118e2...</td>\n",
       "      <td>ea8724e1181e9a7318604aa768bb5cfbfca5b85c75b1b7...</td>\n",
       "      <td>486.0</td>\n",
       "      <td>2.31</td>\n",
       "      <td>0</td>\n",
       "      <td>0</td>\n",
       "      <td>0.0</td>\n",
       "      <td>0</td>\n",
       "      <td>2</td>\n",
       "      <td>NaN</td>\n",
       "      <td>NaN</td>\n",
       "      <td>NaN</td>\n",
       "      <td>0</td>\n",
       "      <td>0</td>\n",
       "      <td>6.0</td>\n",
       "      <td>70.0</td>\n",
       "      <td>2</td>\n",
       "      <td>0</td>\n",
       "      <td>1</td>\n",
       "    </tr>\n",
       "    <tr>\n",
       "      <th>8027340</th>\n",
       "      <td>632253e79156ab803b399f4a0a3f3bccd9950025cf748e...</td>\n",
       "      <td>26</td>\n",
       "      <td>75651</td>\n",
       "      <td>9adf180bf1491b4cba3a021201076b04e8fc51e802365b...</td>\n",
       "      <td>e7f56d2d90f07715c5fc8d62634ea35f00779297b72fe4...</td>\n",
       "      <td>5</td>\n",
       "      <td>1.0</td>\n",
       "      <td>907e2b1e5adf39ca1f65b6e8251c41f74537ebdb3118e2...</td>\n",
       "      <td>ea8724e1181e9a7318604aa768bb5cfbfca5b85c75b1b7...</td>\n",
       "      <td>486.0</td>\n",
       "      <td>2.31</td>\n",
       "      <td>0</td>\n",
       "      <td>0</td>\n",
       "      <td>0.0</td>\n",
       "      <td>0</td>\n",
       "      <td>2</td>\n",
       "      <td>NaN</td>\n",
       "      <td>NaN</td>\n",
       "      <td>NaN</td>\n",
       "      <td>0</td>\n",
       "      <td>0</td>\n",
       "      <td>6.0</td>\n",
       "      <td>70.0</td>\n",
       "      <td>2</td>\n",
       "      <td>0</td>\n",
       "      <td>1</td>\n",
       "    </tr>\n",
       "    <tr>\n",
       "      <th>8361497</th>\n",
       "      <td>6d5b601f364a2ce7a52c76bc26f20bc4acf27196e36c6b...</td>\n",
       "      <td>25</td>\n",
       "      <td>51224</td>\n",
       "      <td>9adf180bf1491b4cba3a021201076b04e8fc51e802365b...</td>\n",
       "      <td>e7f56d2d90f07715c5fc8d62634ea35f00779297b72fe4...</td>\n",
       "      <td>5</td>\n",
       "      <td>1.0</td>\n",
       "      <td>907e2b1e5adf39ca1f65b6e8251c41f74537ebdb3118e2...</td>\n",
       "      <td>ea8724e1181e9a7318604aa768bb5cfbfca5b85c75b1b7...</td>\n",
       "      <td>486.0</td>\n",
       "      <td>11131.75</td>\n",
       "      <td>0</td>\n",
       "      <td>0</td>\n",
       "      <td>0.0</td>\n",
       "      <td>0</td>\n",
       "      <td>11185</td>\n",
       "      <td>NaN</td>\n",
       "      <td>NaN</td>\n",
       "      <td>NaN</td>\n",
       "      <td>0</td>\n",
       "      <td>0</td>\n",
       "      <td>6.0</td>\n",
       "      <td>70.0</td>\n",
       "      <td>11185</td>\n",
       "      <td>0</td>\n",
       "      <td>1</td>\n",
       "    </tr>\n",
       "  </tbody>\n",
       "</table>\n",
       "</div>"
      ],
      "text/plain": [
       "                                                     txkey  locdt  loctm  \\\n",
       "21205    f94753408bc6ddc079b395c38256db19c5d1bb8bb6f692...     26  75652   \n",
       "853441   2162163ecedd706a55e601fb718a95a86e2b219e246e12...     28  63144   \n",
       "5199370  8dec519fddc54767f0ea2c722abab00c7dbd937ca3e38c...     25  51223   \n",
       "5467611  20d4ad186461b724b82a312bcc9c5507800f2440d8a375...     28  62632   \n",
       "6974601  56bf1f835d23c437fbb3c178411f82ef7251c0fdd71bb6...     28  62631   \n",
       "7201705  d2cb1b58a3f81fa607bd98eed3350ff247f1181d8cc065...     28  63143   \n",
       "8027340  632253e79156ab803b399f4a0a3f3bccd9950025cf748e...     26  75651   \n",
       "8361497  6d5b601f364a2ce7a52c76bc26f20bc4acf27196e36c6b...     25  51224   \n",
       "\n",
       "                                                      chid  \\\n",
       "21205    9adf180bf1491b4cba3a021201076b04e8fc51e802365b...   \n",
       "853441   9adf180bf1491b4cba3a021201076b04e8fc51e802365b...   \n",
       "5199370  9adf180bf1491b4cba3a021201076b04e8fc51e802365b...   \n",
       "5467611  9adf180bf1491b4cba3a021201076b04e8fc51e802365b...   \n",
       "6974601  9adf180bf1491b4cba3a021201076b04e8fc51e802365b...   \n",
       "7201705  9adf180bf1491b4cba3a021201076b04e8fc51e802365b...   \n",
       "8027340  9adf180bf1491b4cba3a021201076b04e8fc51e802365b...   \n",
       "8361497  9adf180bf1491b4cba3a021201076b04e8fc51e802365b...   \n",
       "\n",
       "                                                      cano  contp  etymd  \\\n",
       "21205    e7f56d2d90f07715c5fc8d62634ea35f00779297b72fe4...      5    1.0   \n",
       "853441   e7f56d2d90f07715c5fc8d62634ea35f00779297b72fe4...      5    1.0   \n",
       "5199370  e7f56d2d90f07715c5fc8d62634ea35f00779297b72fe4...      5    1.0   \n",
       "5467611  e7f56d2d90f07715c5fc8d62634ea35f00779297b72fe4...      5    1.0   \n",
       "6974601  e7f56d2d90f07715c5fc8d62634ea35f00779297b72fe4...      5    1.0   \n",
       "7201705  e7f56d2d90f07715c5fc8d62634ea35f00779297b72fe4...      5    1.0   \n",
       "8027340  e7f56d2d90f07715c5fc8d62634ea35f00779297b72fe4...      5    1.0   \n",
       "8361497  e7f56d2d90f07715c5fc8d62634ea35f00779297b72fe4...      5    1.0   \n",
       "\n",
       "                                                     mchno  \\\n",
       "21205    907e2b1e5adf39ca1f65b6e8251c41f74537ebdb3118e2...   \n",
       "853441   907e2b1e5adf39ca1f65b6e8251c41f74537ebdb3118e2...   \n",
       "5199370  907e2b1e5adf39ca1f65b6e8251c41f74537ebdb3118e2...   \n",
       "5467611  907e2b1e5adf39ca1f65b6e8251c41f74537ebdb3118e2...   \n",
       "6974601  907e2b1e5adf39ca1f65b6e8251c41f74537ebdb3118e2...   \n",
       "7201705  907e2b1e5adf39ca1f65b6e8251c41f74537ebdb3118e2...   \n",
       "8027340  907e2b1e5adf39ca1f65b6e8251c41f74537ebdb3118e2...   \n",
       "8361497  907e2b1e5adf39ca1f65b6e8251c41f74537ebdb3118e2...   \n",
       "\n",
       "                                                     acqic    mcc     conam  \\\n",
       "21205    ea8724e1181e9a7318604aa768bb5cfbfca5b85c75b1b7...  486.0   4270.09   \n",
       "853441   ea8724e1181e9a7318604aa768bb5cfbfca5b85c75b1b7...  486.0   5539.58   \n",
       "5199370  ea8724e1181e9a7318604aa768bb5cfbfca5b85c75b1b7...  486.0      2.32   \n",
       "5467611  ea8724e1181e9a7318604aa768bb5cfbfca5b85c75b1b7...  486.0   8540.18   \n",
       "6974601  ea8724e1181e9a7318604aa768bb5cfbfca5b85c75b1b7...  486.0      2.31   \n",
       "7201705  ea8724e1181e9a7318604aa768bb5cfbfca5b85c75b1b7...  486.0      2.31   \n",
       "8027340  ea8724e1181e9a7318604aa768bb5cfbfca5b85c75b1b7...  486.0      2.31   \n",
       "8361497  ea8724e1181e9a7318604aa768bb5cfbfca5b85c75b1b7...  486.0  11131.75   \n",
       "\n",
       "         ecfg  insfg  iterm  bnsfg  flam1  stocn  scity  stscd  ovrlt  flbmk  \\\n",
       "21205       0      0    0.0      0   4291    NaN    NaN    NaN      0      0   \n",
       "853441      0      0    0.0      0   5566    NaN    NaN    NaN      0      0   \n",
       "5199370     0      0    0.0      0      2    NaN    NaN    NaN      0      0   \n",
       "5467611     0      0    0.0      0   8581    NaN    NaN    NaN      0      0   \n",
       "6974601     0      0    0.0      0      2    NaN    NaN    NaN      0      0   \n",
       "7201705     0      0    0.0      0      2    NaN    NaN    NaN      0      0   \n",
       "8027340     0      0    0.0      0      2    NaN    NaN    NaN      0      0   \n",
       "8361497     0      0    0.0      0  11185    NaN    NaN    NaN      0      0   \n",
       "\n",
       "         hcefg  csmcu  csmam  flg_3dsmk  label  \n",
       "21205      6.0   70.0   4291          0      1  \n",
       "853441     6.0   70.0   5566          0      1  \n",
       "5199370    6.0   70.0      2          0      1  \n",
       "5467611    6.0   70.0   8581          0      1  \n",
       "6974601    6.0   70.0      2          0      1  \n",
       "7201705    6.0   70.0      2          0      1  \n",
       "8027340    6.0   70.0      2          0      1  \n",
       "8361497    6.0   70.0  11185          0      1  "
      ]
     },
     "execution_count": 224,
     "metadata": {},
     "output_type": "execute_result"
    }
   ],
   "source": [
    "train[train.cano=='e7f56d2d90f07715c5fc8d62634ea35f00779297b72fe41668f5e734172db273']"
   ]
  },
  {
   "cell_type": "code",
   "execution_count": 223,
   "metadata": {},
   "outputs": [
    {
     "name": "stdout",
     "output_type": "stream",
     "text": [
      "2ec598d135c3718aa180a727f089c490270e9d30f4f34f9adc8f4ebdd88db817 330 比例 =9.09% \n",
      "1e76714d2928e0dc1b76060f28bd8c52a351a206194b076625a521c70289bc6d 43 比例 =20.93% \n",
      "7340e3a3204f1928a6d68c6d9dcbbb82daad446e8fe2911097043c60a57aa65b 225 比例 =4.00% \n",
      "e7f56d2d90f07715c5fc8d62634ea35f00779297b72fe41668f5e734172db273 8 比例 =100.00% \n",
      "ce453e0b14800885ffa456680d83c9aea3a69d52aa4cec133906ec26bd5ec405 97 比例 =8.25% \n",
      "67da333485d94ed55487640cf33edaa6167131f5f37d029730c7c8830e1affb2 128 比例 =5.47% \n",
      "3f6519d1512e16ac9631b6b4912e16a138fbe2656dd6e76bdd6442c276908b05 166 比例 =3.61% \n",
      "585ac946c62458b035cd00bb18939159c52c1ffb393227a3fc863955d7274503 34 比例 =17.65% \n",
      "02012023ee36c30f9223e918acf4c8fa85cdc8b4ae5f3cc2ed781d7a11470748 212 比例 =2.36% \n",
      "3103e5e0639f9afd6b999153be6a54df116ec52006d6db75c536b645381481b6 24 比例 =20.83% \n",
      "a75f21acb09fa26bc24679c0950ab01d7c1f97c9951e2778e386562ef6e25966 121 比例 =4.13% \n",
      "733b8c7dc2335ded7ad26e62f38c2a54fe931c2186920e1cb7f69a9f04cf2abb 208 比例 =2.40% \n",
      "2e21b3b974cbd2437f92061ac3b4c104b8c717a180426c9be3997560107ede50 10 比例 =50.00% \n",
      "61bce92b8435edc5f7c75e7ebfc3eb6ead147050b59e6faf2743e7ebcb61bc48 64 比例 =7.81% \n",
      "296c07cef2f24c5417dca2782d698e953a56c5a47cc8a2f21d423ad2c9866ae9 202 比例 =2.48% \n"
     ]
    },
    {
     "ename": "KeyboardInterrupt",
     "evalue": "",
     "output_type": "error",
     "traceback": [
      "\u001b[1;31m---------------------------------------------------------------------------\u001b[0m",
      "\u001b[1;31mKeyboardInterrupt\u001b[0m                         Traceback (most recent call last)",
      "\u001b[1;32mc:\\Users\\cool8\\Desktop\\AI_CUP competition\\feature_engineering.ipynb 儲存格 13\u001b[0m line \u001b[0;36m7\n\u001b[0;32m      <a href='vscode-notebook-cell:/c%3A/Users/cool8/Desktop/AI_CUP%20competition/feature_engineering.ipynb#Y163sZmlsZQ%3D%3D?line=4'>5</a>\u001b[0m \u001b[39mfor\u001b[39;00m index, value \u001b[39min\u001b[39;00m train[train\u001b[39m.\u001b[39mstocn\u001b[39m.\u001b[39misna()]\u001b[39m.\u001b[39mcano\u001b[39m.\u001b[39mvalue_counts()\u001b[39m.\u001b[39mitems():\n\u001b[0;32m      <a href='vscode-notebook-cell:/c%3A/Users/cool8/Desktop/AI_CUP%20competition/feature_engineering.ipynb#Y163sZmlsZQ%3D%3D?line=5'>6</a>\u001b[0m     \u001b[39mif\u001b[39;00m \u001b[39mlen\u001b[39m(train[train\u001b[39m.\u001b[39mcano\u001b[39m==\u001b[39mindex])\u001b[39m>\u001b[39m\u001b[39m1\u001b[39m:\n\u001b[1;32m----> <a href='vscode-notebook-cell:/c%3A/Users/cool8/Desktop/AI_CUP%20competition/feature_engineering.ipynb#Y163sZmlsZQ%3D%3D?line=6'>7</a>\u001b[0m         \u001b[39mprint\u001b[39m(index,\u001b[39mlen\u001b[39m(train[train\u001b[39m.\u001b[39;49mcano\u001b[39m==\u001b[39;49mindex]),\u001b[39m'\u001b[39m\u001b[39m比例 =\u001b[39m\u001b[39m{:.2%}\u001b[39;00m\u001b[39m \u001b[39m\u001b[39m'\u001b[39m\u001b[39m.\u001b[39mformat(value\u001b[39m/\u001b[39m\u001b[39mlen\u001b[39m(train[train\u001b[39m.\u001b[39mcano\u001b[39m==\u001b[39mindex])))\n\u001b[0;32m      <a href='vscode-notebook-cell:/c%3A/Users/cool8/Desktop/AI_CUP%20competition/feature_engineering.ipynb#Y163sZmlsZQ%3D%3D?line=7'>8</a>\u001b[0m     \u001b[39m#print(value/len(train[train.cano==index]))\u001b[39;00m\n\u001b[0;32m      <a href='vscode-notebook-cell:/c%3A/Users/cool8/Desktop/AI_CUP%20competition/feature_engineering.ipynb#Y163sZmlsZQ%3D%3D?line=8'>9</a>\u001b[0m \u001b[39m#        print(f'cano: {index}, count: {value}')\u001b[39;00m\n",
      "File \u001b[1;32mc:\\Users\\cool8\\AppData\\Local\\Programs\\Python\\Python311\\Lib\\site-packages\\pandas\\core\\ops\\common.py:76\u001b[0m, in \u001b[0;36m_unpack_zerodim_and_defer.<locals>.new_method\u001b[1;34m(self, other)\u001b[0m\n\u001b[0;32m     72\u001b[0m             \u001b[39mreturn\u001b[39;00m \u001b[39mNotImplemented\u001b[39m\n\u001b[0;32m     74\u001b[0m other \u001b[39m=\u001b[39m item_from_zerodim(other)\n\u001b[1;32m---> 76\u001b[0m \u001b[39mreturn\u001b[39;00m method(\u001b[39mself\u001b[39;49m, other)\n",
      "File \u001b[1;32mc:\\Users\\cool8\\AppData\\Local\\Programs\\Python\\Python311\\Lib\\site-packages\\pandas\\core\\arraylike.py:40\u001b[0m, in \u001b[0;36mOpsMixin.__eq__\u001b[1;34m(self, other)\u001b[0m\n\u001b[0;32m     38\u001b[0m \u001b[39m@unpack_zerodim_and_defer\u001b[39m(\u001b[39m\"\u001b[39m\u001b[39m__eq__\u001b[39m\u001b[39m\"\u001b[39m)\n\u001b[0;32m     39\u001b[0m \u001b[39mdef\u001b[39;00m \u001b[39m__eq__\u001b[39m(\u001b[39mself\u001b[39m, other):\n\u001b[1;32m---> 40\u001b[0m     \u001b[39mreturn\u001b[39;00m \u001b[39mself\u001b[39;49m\u001b[39m.\u001b[39;49m_cmp_method(other, operator\u001b[39m.\u001b[39;49meq)\n",
      "File \u001b[1;32mc:\\Users\\cool8\\AppData\\Local\\Programs\\Python\\Python311\\Lib\\site-packages\\pandas\\core\\series.py:5799\u001b[0m, in \u001b[0;36mSeries._cmp_method\u001b[1;34m(self, other, op)\u001b[0m\n\u001b[0;32m   5796\u001b[0m lvalues \u001b[39m=\u001b[39m \u001b[39mself\u001b[39m\u001b[39m.\u001b[39m_values\n\u001b[0;32m   5797\u001b[0m rvalues \u001b[39m=\u001b[39m extract_array(other, extract_numpy\u001b[39m=\u001b[39m\u001b[39mTrue\u001b[39;00m, extract_range\u001b[39m=\u001b[39m\u001b[39mTrue\u001b[39;00m)\n\u001b[1;32m-> 5799\u001b[0m res_values \u001b[39m=\u001b[39m ops\u001b[39m.\u001b[39;49mcomparison_op(lvalues, rvalues, op)\n\u001b[0;32m   5801\u001b[0m \u001b[39mreturn\u001b[39;00m \u001b[39mself\u001b[39m\u001b[39m.\u001b[39m_construct_result(res_values, name\u001b[39m=\u001b[39mres_name)\n",
      "File \u001b[1;32mc:\\Users\\cool8\\AppData\\Local\\Programs\\Python\\Python311\\Lib\\site-packages\\pandas\\core\\ops\\array_ops.py:346\u001b[0m, in \u001b[0;36mcomparison_op\u001b[1;34m(left, right, op)\u001b[0m\n\u001b[0;32m    343\u001b[0m     \u001b[39mreturn\u001b[39;00m invalid_comparison(lvalues, rvalues, op)\n\u001b[0;32m    345\u001b[0m \u001b[39melif\u001b[39;00m lvalues\u001b[39m.\u001b[39mdtype \u001b[39m==\u001b[39m \u001b[39mobject\u001b[39m \u001b[39mor\u001b[39;00m \u001b[39misinstance\u001b[39m(rvalues, \u001b[39mstr\u001b[39m):\n\u001b[1;32m--> 346\u001b[0m     res_values \u001b[39m=\u001b[39m comp_method_OBJECT_ARRAY(op, lvalues, rvalues)\n\u001b[0;32m    348\u001b[0m \u001b[39melse\u001b[39;00m:\n\u001b[0;32m    349\u001b[0m     res_values \u001b[39m=\u001b[39m _na_arithmetic_op(lvalues, rvalues, op, is_cmp\u001b[39m=\u001b[39m\u001b[39mTrue\u001b[39;00m)\n",
      "File \u001b[1;32mc:\\Users\\cool8\\AppData\\Local\\Programs\\Python\\Python311\\Lib\\site-packages\\pandas\\core\\ops\\array_ops.py:132\u001b[0m, in \u001b[0;36mcomp_method_OBJECT_ARRAY\u001b[1;34m(op, x, y)\u001b[0m\n\u001b[0;32m    130\u001b[0m \u001b[39melse\u001b[39;00m:\n\u001b[0;32m    131\u001b[0m     result \u001b[39m=\u001b[39m libops\u001b[39m.\u001b[39mscalar_compare(x\u001b[39m.\u001b[39mravel(), y, op)\n\u001b[1;32m--> 132\u001b[0m \u001b[39mreturn\u001b[39;00m result\u001b[39m.\u001b[39;49mreshape(x\u001b[39m.\u001b[39;49mshape)\n",
      "\u001b[1;31mKeyboardInterrupt\u001b[0m: "
     ]
    }
   ],
   "source": [
    "#train[train.stocn.isna()].cano.value_counts()\n",
    "\n",
    "train[train.stocn.isna()].cano.value_counts()\n",
    "\n",
    "for index, value in train[train.stocn.isna()].cano.value_counts().items():\n",
    "    if len(train[train.cano==index])>1:\n",
    "        print(index,len(train[train.cano==index]),'比例 ={:.2%} '.format(value/len(train[train.cano==index])))\n",
    "    #print(value/len(train[train.cano==index]))\n",
    "#        print(f'cano: {index}, count: {value}')\n"
   ]
  },
  {
   "cell_type": "markdown",
   "metadata": {},
   "source": [
    "etymd 在盜刷的時候缺失值是正常交易的1/10"
   ]
  },
  {
   "cell_type": "code",
   "execution_count": 119,
   "metadata": {},
   "outputs": [
    {
     "name": "stdout",
     "output_type": "stream",
     "text": [
      "0.02341651506826359\n",
      "理論上，etymd在盜刷情況下缺失值有 750.01 筆，實際上僅 71 筆\n"
     ]
    }
   ],
   "source": [
    "print(203455/len(train))\n",
    "print('理論上，etymd在盜刷情況下缺失值有',round(203455/len(train)*sum(train.label==1),2),'筆，實際上僅',sum(train[train.label==1].etymd.isna()),'筆')"
   ]
  },
  {
   "cell_type": "markdown",
   "metadata": {},
   "source": [
    "stscd是狀態碼，可推論通常是卡片狀態異常才會有值"
   ]
  },
  {
   "cell_type": "code",
   "execution_count": 177,
   "metadata": {},
   "outputs": [
    {
     "name": "stdout",
     "output_type": "stream",
     "text": [
      "在stscd不缺失(狀態異常)的情況下，正常交易筆數為 12852 筆，異常交易筆數為 10479 筆\n"
     ]
    }
   ],
   "source": [
    "print(f'在stscd不缺失(狀態異常)的情況下，正常交易筆數為 {len(train[(~train.stscd.isna()) & (train.label==0)])} 筆，異常交易筆數為 {len(train[(~train.stscd.isna()) & (train.label==1)])} 筆')"
   ]
  },
  {
   "cell_type": "code",
   "execution_count": 12,
   "metadata": {},
   "outputs": [
    {
     "data": {
      "text/plain": [
       "Index(['etymd', 'mcc', 'stocn', 'scity', 'stscd', 'hcefg', 'csmcu'], dtype='object')"
      ]
     },
     "execution_count": 12,
     "metadata": {},
     "output_type": "execute_result"
    }
   ],
   "source": [
    "na_name = (train.isna().sum()[train.isna().sum()>0].index)\n",
    "na_name"
   ]
  },
  {
   "cell_type": "markdown",
   "metadata": {},
   "source": [
    "csmcu     "
   ]
  },
  {
   "cell_type": "code",
   "execution_count": 186,
   "metadata": {},
   "outputs": [],
   "source": [
    "def hot_deck_imputation(data, variable, distance_metric='euclidean'):\n",
    "    # 创建一个新的数据框用于存储插补后的值\n",
    "    imputed_data = data.copy()\n",
    "\n",
    "    # 找到含有缺失值的行\n",
    "    missing_rows = data[data[variable].isna()]\n",
    "\n",
    "    # 找到没有缺失值的行\n",
    "    complete_rows = data[~data[variable].isna()]\n",
    "\n",
    "    for index, missing_row in missing_rows.iterrows():\n",
    "        # 只在存在相似的观测值时进行插补\n",
    "        if not complete_rows.empty:\n",
    "            # 计算缺失行与没有缺失值的行之间的距离\n",
    "            distances = pairwise_distances(missing_row[variable].values.reshape(1, -1), complete_rows[[variable]], metric=distance_metric)\n",
    "\n",
    "            # 找到最接近的观测值的索引\n",
    "            nearest_index = distances.argmin()\n",
    "\n",
    "            # 从最接近的观测值中获取值并用于填充缺失值\n",
    "            imputed_value = complete_rows.iloc[nearest_index][variable]\n",
    "\n",
    "            # 将 imputed_value 填充到缺失值的行\n",
    "            imputed_data.at[index, variable] = imputed_value\n",
    "\n",
    "    return imputed_data\n"
   ]
  },
  {
   "cell_type": "code",
   "execution_count": 187,
   "metadata": {},
   "outputs": [
    {
     "ename": "AttributeError",
     "evalue": "'float' object has no attribute 'values'",
     "output_type": "error",
     "traceback": [
      "\u001b[1;31m---------------------------------------------------------------------------\u001b[0m",
      "\u001b[1;31mAttributeError\u001b[0m                            Traceback (most recent call last)",
      "\u001b[1;32mc:\\Users\\cool8\\Desktop\\AI_CUP competition\\feature_engineering.ipynb 儲存格 19\u001b[0m line \u001b[0;36m2\n\u001b[0;32m      <a href='vscode-notebook-cell:/c%3A/Users/cool8/Desktop/AI_CUP%20competition/feature_engineering.ipynb#Y162sZmlsZQ%3D%3D?line=0'>1</a>\u001b[0m \u001b[39m# 在train数据集上进行热平台插补，假设缺失值在 'csmcu' 列\u001b[39;00m\n\u001b[1;32m----> <a href='vscode-notebook-cell:/c%3A/Users/cool8/Desktop/AI_CUP%20competition/feature_engineering.ipynb#Y162sZmlsZQ%3D%3D?line=1'>2</a>\u001b[0m imputed_train \u001b[39m=\u001b[39m hot_deck_imputation(train, \u001b[39m'\u001b[39;49m\u001b[39mcsmcu\u001b[39;49m\u001b[39m'\u001b[39;49m)\n",
      "\u001b[1;32mc:\\Users\\cool8\\Desktop\\AI_CUP competition\\feature_engineering.ipynb 儲存格 19\u001b[0m line \u001b[0;36m1\n\u001b[0;32m     <a href='vscode-notebook-cell:/c%3A/Users/cool8/Desktop/AI_CUP%20competition/feature_engineering.ipynb#Y162sZmlsZQ%3D%3D?line=10'>11</a>\u001b[0m \u001b[39mfor\u001b[39;00m index, missing_row \u001b[39min\u001b[39;00m missing_rows\u001b[39m.\u001b[39miterrows():\n\u001b[0;32m     <a href='vscode-notebook-cell:/c%3A/Users/cool8/Desktop/AI_CUP%20competition/feature_engineering.ipynb#Y162sZmlsZQ%3D%3D?line=11'>12</a>\u001b[0m     \u001b[39m# 只在存在相似的观测值时进行插补\u001b[39;00m\n\u001b[0;32m     <a href='vscode-notebook-cell:/c%3A/Users/cool8/Desktop/AI_CUP%20competition/feature_engineering.ipynb#Y162sZmlsZQ%3D%3D?line=12'>13</a>\u001b[0m     \u001b[39mif\u001b[39;00m \u001b[39mnot\u001b[39;00m complete_rows\u001b[39m.\u001b[39mempty:\n\u001b[0;32m     <a href='vscode-notebook-cell:/c%3A/Users/cool8/Desktop/AI_CUP%20competition/feature_engineering.ipynb#Y162sZmlsZQ%3D%3D?line=13'>14</a>\u001b[0m         \u001b[39m# 计算缺失行与没有缺失值的行之间的距离\u001b[39;00m\n\u001b[1;32m---> <a href='vscode-notebook-cell:/c%3A/Users/cool8/Desktop/AI_CUP%20competition/feature_engineering.ipynb#Y162sZmlsZQ%3D%3D?line=14'>15</a>\u001b[0m         distances \u001b[39m=\u001b[39m pairwise_distances(missing_row[variable]\u001b[39m.\u001b[39;49mvalues\u001b[39m.\u001b[39mreshape(\u001b[39m1\u001b[39m, \u001b[39m-\u001b[39m\u001b[39m1\u001b[39m), complete_rows[[variable]], metric\u001b[39m=\u001b[39mdistance_metric)\n\u001b[0;32m     <a href='vscode-notebook-cell:/c%3A/Users/cool8/Desktop/AI_CUP%20competition/feature_engineering.ipynb#Y162sZmlsZQ%3D%3D?line=16'>17</a>\u001b[0m         \u001b[39m# 找到最接近的观测值的索引\u001b[39;00m\n\u001b[0;32m     <a href='vscode-notebook-cell:/c%3A/Users/cool8/Desktop/AI_CUP%20competition/feature_engineering.ipynb#Y162sZmlsZQ%3D%3D?line=17'>18</a>\u001b[0m         nearest_index \u001b[39m=\u001b[39m distances\u001b[39m.\u001b[39margmin()\n",
      "\u001b[1;31mAttributeError\u001b[0m: 'float' object has no attribute 'values'"
     ]
    }
   ],
   "source": [
    "# 在train数据集上进行热平台插补，假设缺失值在 'csmcu' 列\n",
    "imputed_train = hot_deck_imputation(train, 'csmcu')\n"
   ]
  },
  {
   "cell_type": "code",
   "execution_count": 176,
   "metadata": {},
   "outputs": [
    {
     "name": "stdout",
     "output_type": "stream",
     "text": [
      "227\n",
      "212664\n"
     ]
    },
    {
     "data": {
      "text/plain": [
       "0.0010662733511515282"
      ]
     },
     "execution_count": 176,
     "metadata": {},
     "output_type": "execute_result"
    }
   ],
   "source": [
    "print(train[train.csmcu.isna()&(train.label==1)].hcefg.value_counts().sort_index().sum())\n",
    "print(train[train.csmcu.isna()&(train.label==0)].hcefg.value_counts().sort_index().sum())\n",
    "\n"
   ]
  },
  {
   "cell_type": "code",
   "execution_count": 172,
   "metadata": {},
   "outputs": [
    {
     "name": "stdout",
     "output_type": "stream",
     "text": [
      "hcefg\n",
      "0.0     22769\n",
      "2.0         8\n",
      "3.0      1692\n",
      "4.0        88\n",
      "5.0       249\n",
      "6.0    182459\n",
      "8.0      4525\n",
      "9.0       874\n",
      "Name: count, dtype: int64\n",
      "hcefg\n",
      "0.0     757616\n",
      "1.0     184844\n",
      "2.0        112\n",
      "3.0      51414\n",
      "4.0        490\n",
      "5.0       2479\n",
      "6.0    7291472\n",
      "7.0      10696\n",
      "8.0      35635\n",
      "9.0      35258\n",
      "Name: count, dtype: int64\n"
     ]
    }
   ],
   "source": [
    "print(train[train.csmcu.isna()&(train.label==0)].hcefg.value_counts().sort_index())\n",
    "print(train[train.csmcu.isna()].hcefg.value_counts().sort_index()/sum(train[train.csmcu.isna()].hcefg))\n",
    "\n",
    "#print(train[train.label==0].hcefg.value_counts().sort_index())\n"
   ]
  },
  {
   "cell_type": "code",
   "execution_count": 171,
   "metadata": {},
   "outputs": [
    {
     "name": "stdout",
     "output_type": "stream",
     "text": [
      "hcefg\n",
      "0.0     22876\n",
      "2.0        20\n",
      "3.0      1718\n",
      "4.0        88\n",
      "5.0       249\n",
      "6.0    182529\n",
      "8.0      4527\n",
      "9.0       884\n",
      "Name: count, dtype: int64\n",
      "hcefg\n",
      "0.0      758808\n",
      "1.0      184851\n",
      "2.0         159\n",
      "3.0       51551\n",
      "4.0         490\n",
      "5.0        2479\n",
      "6.0     7321872\n",
      "7.0       10696\n",
      "8.0       35638\n",
      "9.0       35320\n",
      "10.0          6\n",
      "Name: count, dtype: int64\n"
     ]
    }
   ],
   "source": [
    "print(train[train.csmcu.isna()].hcefg.value_counts().sort_index())\n",
    "print(train.hcefg.value_counts().sort_index())\n"
   ]
  },
  {
   "cell_type": "code",
   "execution_count": null,
   "metadata": {},
   "outputs": [],
   "source": [
    "\n",
    "for idx in na_name:\n",
    "    print(idx)\n",
    "    sns.countplot(x= idx, data=train[train['label']==0])\n",
    "    plt.title(f'Distribution of {idx} in Normal Data')\n",
    "    plt.show()\n",
    "\n",
    "    sns.countplot(x=idx, data=train[train['label']==1])\n",
    "    plt.title(f'Distribution of {idx} in Abnormal Data')\n",
    "    plt.show()"
   ]
  },
  {
   "cell_type": "markdown",
   "metadata": {},
   "source": [
    "計算各筆資料的缺失值總數"
   ]
  },
  {
   "cell_type": "code",
   "execution_count": 72,
   "metadata": {},
   "outputs": [
    {
     "name": "stdout",
     "output_type": "stream",
     "text": [
      "1    8140512\n",
      "3     284589\n",
      "4     192521\n",
      "2      28368\n",
      "0      21720\n",
      "5      20816\n",
      "Name: count, dtype: int64\n",
      "1    562574\n",
      "3     19283\n",
      "4     13178\n",
      "2      2234\n",
      "5      1473\n",
      "0      1440\n",
      "Name: count, dtype: int64\n"
     ]
    }
   ],
   "source": [
    "print((train.isna()).sum(axis=1).value_counts())\n",
    "print((public.isna()).sum(axis=1).value_counts())"
   ]
  },
  {
   "cell_type": "markdown",
   "metadata": {},
   "source": [
    "### 抽樣看看"
   ]
  },
  {
   "cell_type": "code",
   "execution_count": 45,
   "metadata": {},
   "outputs": [],
   "source": [
    "np.random.seed(43)\n",
    "# 指定要抽取的样本大小（假设抽取1000个样本）\n",
    "sample_size = 100000\n",
    "\n",
    "# 随机抽样\n",
    "random_sample = train.sample(n=sample_size)"
   ]
  },
  {
   "cell_type": "code",
   "execution_count": 46,
   "metadata": {},
   "outputs": [
    {
     "name": "stdout",
     "output_type": "stream",
     "text": [
      "etymd    0.020499\n",
      "mcc      0.000458\n",
      "stocn    0.000060\n",
      "scity    0.026807\n",
      "stscd    0.873052\n",
      "hcefg    0.028882\n",
      "csmcu    0.050242\n",
      "dtype: float64\n",
      "etymd    0.020185\n",
      "mcc      0.000517\n",
      "stocn    0.000102\n",
      "scity    0.026906\n",
      "stscd    0.874060\n",
      "hcefg    0.028765\n",
      "csmcu    0.049465\n",
      "dtype: float64\n",
      "etymd    0.020351\n",
      "mcc      0.000568\n",
      "stocn    0.000079\n",
      "scity    0.026520\n",
      "stscd    0.871472\n",
      "hcefg    0.029902\n",
      "csmcu    0.051109\n",
      "dtype: float64\n"
     ]
    }
   ],
   "source": [
    "print(train.isna().sum()[train.isna().sum()>0]/sum(train.isna().sum()[train.isna().sum()>0]))\n",
    "print(public.isna().sum()[public.isna().sum()>0]/sum(public.isna().sum()[public.isna().sum()>0]))\n",
    "print(random_sample.isna().sum()[random_sample.isna().sum()>0]/sum(random_sample.isna().sum()[random_sample.isna().sum()>0]))\n"
   ]
  },
  {
   "cell_type": "code",
   "execution_count": 68,
   "metadata": {},
   "outputs": [
    {
     "data": {
      "text/plain": [
       "0.00034909334067576605"
      ]
     },
     "execution_count": 68,
     "metadata": {},
     "output_type": "execute_result"
    }
   ],
   "source": [
    "#random_sample.mcc.isna().sum()\n",
    "#train.mcc.isna().sum()\n",
    "#train[train.label==1].etymd.isna().sum()\n",
    "#train[train.label==0].etymd.isna().sum()\n",
    "71/203384\n"
   ]
  },
  {
   "cell_type": "code",
   "execution_count": 54,
   "metadata": {},
   "outputs": [
    {
     "name": "stdout",
     "output_type": "stream",
     "text": [
      "etymd    0.002217\n",
      "mcc      0.000062\n",
      "stocn    0.000781\n",
      "scity    0.019451\n",
      "stscd    0.672828\n",
      "hcefg    0.005464\n",
      "csmcu    0.012083\n",
      "dtype: float64\n",
      "etymd    0.000000\n",
      "mcc      0.000000\n",
      "stocn    0.002801\n",
      "scity    0.005602\n",
      "stscd    0.644258\n",
      "hcefg    0.000000\n",
      "csmcu    0.002801\n",
      "dtype: float64\n"
     ]
    }
   ],
   "source": [
    "a = 1\n",
    "print(train[train.label==a].isna().sum()[train.isna().sum()>0]/len(train[train.label==a]))\n",
    "#print(public[public.label==1].isna().sum()[public.isna().sum()>0]/sum(public[public.label==1].isna().sum()[public.isna().sum()>0]))\n",
    "print(random_sample[random_sample.label==a].isna().sum()[random_sample.isna().sum()>0]/len(random_sample[random_sample.label==a]))\n"
   ]
  },
  {
   "cell_type": "code",
   "execution_count": 70,
   "metadata": {},
   "outputs": [
    {
     "data": {
      "image/png": "[encoded data removed]",
      "text/plain": [
       "<Figure size 640x480 with 1 Axes>"
      ]
     },
     "metadata": {},
     "output_type": "display_data"
    },
    {
     "data": {
      "image/png": "[encoded data removed]",
      "text/plain": [
       "<Figure size 640x480 with 1 Axes>"
      ]
     },
     "metadata": {},
     "output_type": "display_data"
    }
   ],
   "source": [
    "(train[train.label==a].isna().sum()[train.isna().sum()>0]/len(train[train.label==a])).drop('stscd').plot(kind='bar', color='skyblue') \n",
    "plt.title('Proportion of Missing Value in Train Data')\n",
    "plt.show()\n",
    "\n",
    "(random_sample[random_sample.label==a].isna().sum()[random_sample.isna().sum()>0]/len(random_sample)).drop('stscd').plot(kind='bar', color='skyblue') \n",
    "plt.title(f'Proportion of Missing Value in {len(random_sample)}samples Data')\n",
    "plt.show()"
   ]
  },
  {
   "cell_type": "code",
   "execution_count": 42,
   "metadata": {},
   "outputs": [
    {
     "data": {
      "image/png": "[encoded data removed]",
      "text/plain": [
       "<Figure size 640x480 with 1 Axes>"
      ]
     },
     "metadata": {},
     "output_type": "display_data"
    },
    {
     "data": {
      "image/png": "[encoded data removed]",
      "text/plain": [
       "<Figure size 640x480 with 1 Axes>"
      ]
     },
     "metadata": {},
     "output_type": "display_data"
    },
    {
     "data": {
      "image/png": "[encoded data removed]",
      "text/plain": [
       "<Figure size 640x480 with 1 Axes>"
      ]
     },
     "metadata": {},
     "output_type": "display_data"
    }
   ],
   "source": [
    "(train.isna().sum()[train.isna().sum()>0]/sum(train.isna().sum()[train.isna().sum()>0])).plot(kind='bar', color='skyblue') \n",
    "plt.title('Proportion of Missing Value in Train Data')\n",
    "plt.show()\n",
    "\n",
    "(public.isna().sum()[public.isna().sum()>0]/sum(public.isna().sum()[public.isna().sum()>0])).plot(kind='bar', color='skyblue') \n",
    "plt.title('Proportion of Missing Value in Public Data')\n",
    "plt.show()\n",
    "\n",
    "(random_sample.isna().sum()[random_sample.isna().sum()>0]/sum(random_sample.isna().sum()[random_sample.isna().sum()>0])).plot(kind='bar', color='skyblue') \n",
    "plt.title(f'Proportion of Missing Value in {len(random_sample)} samples Data')\n",
    "plt.show()"
   ]
  },
  {
   "cell_type": "code",
   "execution_count": null,
   "metadata": {},
   "outputs": [],
   "source": [
    "print((train.isna()).sum(axis=1).value_counts())\n",
    "print((train[train['label']==0].isna()).sum(axis=1).value_counts())\n",
    "print((train[train['label']==1].isna()).sum(axis=1).value_counts())\n"
   ]
  },
  {
   "cell_type": "code",
   "execution_count": 8,
   "metadata": {},
   "outputs": [
    {
     "data": {
      "image/png": "[encoded data removed]",
      "text/plain": [
       "<Figure size 640x480 with 1 Axes>"
      ]
     },
     "metadata": {},
     "output_type": "display_data"
    },
    {
     "data": {
      "image/png": "[encoded data removed]",
      "text/plain": [
       "<Figure size 640x480 with 1 Axes>"
      ]
     },
     "metadata": {},
     "output_type": "display_data"
    }
   ],
   "source": [
    "missing_counts_normal = (train[train['label'] == 0].isna()).sum(axis=1).value_counts()\n",
    "missing_counts_abnormal = (train[train['label'] == 1].isna()).sum(axis=1).value_counts()\n",
    "# 绘制直方图\n",
    "#plt.figure(figsize=(10, 6))\n",
    "plt.bar(missing_counts_normal.index, missing_counts_normal.values)\n",
    "plt.xlabel('Missing Value Count')\n",
    "plt.ylabel('Frequency')\n",
    "plt.title('Missing Value Count Distribution in Normal Transactions')\n",
    "plt.show()\n",
    "\n",
    "plt.bar(missing_counts_abnormal.index, missing_counts_abnormal.values)\n",
    "plt.xlabel('Missing Value Count')\n",
    "plt.ylabel('Frequency')\n",
    "plt.title('Missing Value Count Distribution in Abnormal Transactions')\n",
    "plt.show()"
   ]
  },
  {
   "cell_type": "code",
   "execution_count": 10,
   "metadata": {},
   "outputs": [
    {
     "data": {
      "image/png": "[encoded data removed]",
      "text/plain": [
       "<Figure size 640x480 with 1 Axes>"
      ]
     },
     "metadata": {},
     "output_type": "display_data"
    }
   ],
   "source": [
    "missing_counts = (public.isna()).sum(axis=1).value_counts()\n",
    "# 绘制直方图\n",
    "#plt.figure(figsize=(10, 6))\n",
    "plt.bar(missing_counts.index, missing_counts.values)\n",
    "plt.xlabel('Missing Value Count')\n",
    "plt.ylabel('Frequency')\n",
    "plt.title('Missing Value Count Distribution in Normal Transactions')\n",
    "plt.show()"
   ]
  },
  {
   "cell_type": "markdown",
   "metadata": {},
   "source": [
    "#### etymd"
   ]
  },
  {
   "cell_type": "code",
   "execution_count": 13,
   "metadata": {},
   "outputs": [
    {
     "name": "stdout",
     "output_type": "stream",
     "text": [
      "203384 71\n",
      "0.02349495413675994 0.002216741078397702\n"
     ]
    }
   ],
   "source": [
    "print(train[train['label']==0]['etymd'].isna().sum() ,train[train['label']==1]['etymd'].isna().sum())\n",
    "\n",
    "print(train[train['label']==0]['etymd'].isna().sum()/8656497 ,train[train['label']==1]['etymd'].isna().sum()/32029)\n"
   ]
  },
  {
   "cell_type": "code",
   "execution_count": null,
   "metadata": {},
   "outputs": [],
   "source": [
    "train[train['label']==0]['etymd'].value_counts().sort_index()/sum(train[train['label']==0]['etymd'].value_counts().sort_index())"
   ]
  },
  {
   "cell_type": "code",
   "execution_count": null,
   "metadata": {},
   "outputs": [],
   "source": [
    "print(train[train['label']==0]['etymd'].value_counts().sort_index()/sum(train[train['label']==0]['etymd'].value_counts().sort_index()))\n",
    "print(train[train['label']==1]['etymd'].value_counts().sort_index()/sum(train[train['label']==1]['etymd'].value_counts().sort_index()))"
   ]
  },
  {
   "cell_type": "code",
   "execution_count": null,
   "metadata": {},
   "outputs": [],
   "source": [
    "sns.countplot(x='etymd', data=train[train['label']==0])\n",
    "plt.title('Distribution of etymd in Normal Data')\n",
    "plt.show()\n",
    "\n",
    "sns.countplot(x='etymd', data=train[train['label']==1])\n",
    "plt.title('Distribution of etymd in Abnormal Data')\n",
    "plt.show()"
   ]
  },
  {
   "cell_type": "markdown",
   "metadata": {},
   "source": [
    "填補+填補後的分布"
   ]
  },
  {
   "cell_type": "code",
   "execution_count": null,
   "metadata": {},
   "outputs": [],
   "source": [
    "train['etymd'] = train['etymd'].fillna(-1)"
   ]
  },
  {
   "cell_type": "code",
   "execution_count": null,
   "metadata": {},
   "outputs": [],
   "source": [
    "sns.countplot(x='etymd', data=train[train['label']==0])\n",
    "plt.title('Distribution of etymd in Normal Data')\n",
    "plt.show()\n",
    "\n",
    "sns.countplot(x='etymd', data=train[train['label']==1])\n",
    "plt.title('Distribution of etymd in Abnormal Data')\n",
    "plt.show()"
   ]
  },
  {
   "cell_type": "markdown",
   "metadata": {},
   "source": [
    "### mcc"
   ]
  },
  {
   "cell_type": "code",
   "execution_count": null,
   "metadata": {},
   "outputs": [],
   "source": [
    "print(train[train['label']==0]['mcc'].isna().sum() ,train[train['label']==1]['mcc'].isna().sum())\n",
    "\n",
    "print(train[train['label']==0]['mcc'].isna().sum()/8656497 ,train[train['label']==1]['mcc'].isna().sum()/32029)\n"
   ]
  },
  {
   "cell_type": "code",
   "execution_count": 5,
   "metadata": {},
   "outputs": [
    {
     "name": "stdout",
     "output_type": "stream",
     "text": [
      "mcc\n",
      "320.0    1262155\n",
      "276.0    1140977\n",
      "282.0     659604\n",
      "272.0     516844\n",
      "275.0     379262\n",
      "          ...   \n",
      "204.0          1\n",
      "30.0           1\n",
      "74.0           1\n",
      "58.0           1\n",
      "391.0          1\n",
      "Name: count, Length: 450, dtype: int64\n",
      "mcc\n",
      "324.0    6049\n",
      "326.0    2078\n",
      "317.0    2063\n",
      "325.0    1842\n",
      "323.0    1601\n",
      "         ... \n",
      "208.0       1\n",
      "150.0       1\n",
      "256.0       1\n",
      "140.0       1\n",
      "113.0       1\n",
      "Name: count, Length: 261, dtype: int64\n"
     ]
    }
   ],
   "source": [
    "print(train[train['label']==0]['mcc'].value_counts())\n",
    "print(train[train['label']==1]['mcc'].value_counts())"
   ]
  },
  {
   "cell_type": "code",
   "execution_count": null,
   "metadata": {},
   "outputs": [],
   "source": [
    "nmcc_count   = train[train['label']==0].mcc.value_counts()\n",
    "abnmcc_count = train[train['label']==1].mcc.value_counts()"
   ]
  },
  {
   "cell_type": "code",
   "execution_count": null,
   "metadata": {},
   "outputs": [],
   "source": [
    "abnmcc_count.head(10).index"
   ]
  },
  {
   "cell_type": "code",
   "execution_count": null,
   "metadata": {},
   "outputs": [],
   "source": [
    "for x in abnmcc_count.head(10).index:\n",
    "    print(nmcc_count.index.get_loc(x))\n",
    "print('--------------------')\n",
    "for x in nmcc_count.head(10).index:\n",
    "    print(abnmcc_count.index.get_loc(x))"
   ]
  },
  {
   "cell_type": "code",
   "execution_count": null,
   "metadata": {},
   "outputs": [],
   "source": [
    "abnmcc_count[nmcc_count.head(10).index]"
   ]
  },
  {
   "cell_type": "code",
   "execution_count": null,
   "metadata": {},
   "outputs": [],
   "source": [
    "plt.bar(nmcc_count[nmcc_count>100000].index, nmcc_count[nmcc_count>100000].values)\n",
    "plt.xlabel('mcc')\n",
    "plt.ylabel('Frequency')\n",
    "plt.title('mcc Count Distribution in Normal Transactions')\n",
    "plt.show()"
   ]
  },
  {
   "cell_type": "code",
   "execution_count": null,
   "metadata": {},
   "outputs": [],
   "source": [
    "plt.bar(abnmcc_count[abnmcc_count>370].index, abnmcc_count[abnmcc_count>370].values)\n",
    "plt.xlabel('mcc')\n",
    "plt.ylabel('Frequency')\n",
    "plt.title('mcc Count Distribution in Normal Transactions')\n",
    "plt.show()"
   ]
  },
  {
   "cell_type": "code",
   "execution_count": null,
   "metadata": {},
   "outputs": [],
   "source": [
    "nmcc_count\n",
    "\n",
    "plt.bar(nmcc_count.index, nmcc_count.values)\n",
    "plt.xlabel('mcc')\n",
    "plt.ylabel('Frequency')\n",
    "plt.title('mcc Count Distribution in Normal Transactions')\n",
    "plt.show()"
   ]
  },
  {
   "cell_type": "markdown",
   "metadata": {},
   "source": [
    "#### stscd"
   ]
  },
  {
   "cell_type": "code",
   "execution_count": null,
   "metadata": {},
   "outputs": [],
   "source": [
    "print(train[train['label']==0]['stscd'].value_counts())\n",
    "print(train[train['label']==1]['stscd'].value_counts())"
   ]
  },
  {
   "cell_type": "code",
   "execution_count": null,
   "metadata": {},
   "outputs": [],
   "source": [
    "sns.countplot(x='stscd', data=train[train['label']==0])\n",
    "plt.title('Distribution of stscd in Normal Data')\n",
    "plt.show()\n",
    "\n",
    "sns.countplot(x='stscd', data=train[train['label']==1])\n",
    "plt.title('Distribution of stscd in Abnormal Data')\n",
    "plt.show()"
   ]
  },
  {
   "cell_type": "markdown",
   "metadata": {},
   "source": [
    "填補+填補後的分布"
   ]
  },
  {
   "cell_type": "code",
   "execution_count": null,
   "metadata": {},
   "outputs": [],
   "source": [
    "train['stscd'] = train['stscd'].fillna(-1)"
   ]
  },
  {
   "cell_type": "code",
   "execution_count": null,
   "metadata": {},
   "outputs": [],
   "source": [
    "sns.countplot(x='stscd', data=train[train['label']==0])\n",
    "plt.title('Distribution of stscd in Normal Data')\n",
    "plt.show()\n",
    "\n",
    "sns.countplot(x='stscd', data=train[train['label']==1])\n",
    "plt.title('Distribution of stscd in Abnormal Data')\n",
    "plt.show()"
   ]
  },
  {
   "cell_type": "markdown",
   "metadata": {},
   "source": [
    "## EDA"
   ]
  },
  {
   "cell_type": "code",
   "execution_count": 11,
   "metadata": {},
   "outputs": [
    {
     "data": {
      "text/html": [
       "<div>\n",
       "<style scoped>\n",
       "    .dataframe tbody tr th:only-of-type {\n",
       "        vertical-align: middle;\n",
       "    }\n",
       "\n",
       "    .dataframe tbody tr th {\n",
       "        vertical-align: top;\n",
       "    }\n",
       "\n",
       "    .dataframe thead th {\n",
       "        text-align: right;\n",
       "    }\n",
       "</style>\n",
       "<table border=\"1\" class=\"dataframe\">\n",
       "  <thead>\n",
       "    <tr style=\"text-align: right;\">\n",
       "      <th></th>\n",
       "      <th>locdt</th>\n",
       "      <th>loctm</th>\n",
       "      <th>contp</th>\n",
       "      <th>etymd</th>\n",
       "      <th>mcc</th>\n",
       "      <th>conam</th>\n",
       "      <th>ecfg</th>\n",
       "      <th>insfg</th>\n",
       "      <th>iterm</th>\n",
       "      <th>bnsfg</th>\n",
       "      <th>flam1</th>\n",
       "      <th>stocn</th>\n",
       "      <th>scity</th>\n",
       "      <th>stscd</th>\n",
       "      <th>ovrlt</th>\n",
       "      <th>flbmk</th>\n",
       "      <th>hcefg</th>\n",
       "      <th>csmcu</th>\n",
       "      <th>csmam</th>\n",
       "      <th>flg_3dsmk</th>\n",
       "      <th>label</th>\n",
       "    </tr>\n",
       "  </thead>\n",
       "  <tbody>\n",
       "    <tr>\n",
       "      <th>count</th>\n",
       "      <td>9.288708e+06</td>\n",
       "      <td>9.288708e+06</td>\n",
       "      <td>9.288708e+06</td>\n",
       "      <td>9.288708e+06</td>\n",
       "      <td>9.288708e+06</td>\n",
       "      <td>9.288708e+06</td>\n",
       "      <td>9.288708e+06</td>\n",
       "      <td>9.288708e+06</td>\n",
       "      <td>9.288708e+06</td>\n",
       "      <td>9.288708e+06</td>\n",
       "      <td>9.288708e+06</td>\n",
       "      <td>9.288708e+06</td>\n",
       "      <td>9.288708e+06</td>\n",
       "      <td>9.288708e+06</td>\n",
       "      <td>9.288708e+06</td>\n",
       "      <td>9.288708e+06</td>\n",
       "      <td>9.288708e+06</td>\n",
       "      <td>9.288708e+06</td>\n",
       "      <td>9.288708e+06</td>\n",
       "      <td>9.288708e+06</td>\n",
       "      <td>9.288708e+06</td>\n",
       "    </tr>\n",
       "    <tr>\n",
       "      <th>mean</th>\n",
       "      <td>2.943696e+01</td>\n",
       "      <td>1.430691e+05</td>\n",
       "      <td>4.904868e+00</td>\n",
       "      <td>4.581256e+00</td>\n",
       "      <td>3.172410e+02</td>\n",
       "      <td>1.428644e+03</td>\n",
       "      <td>5.739214e-01</td>\n",
       "      <td>1.065735e-02</td>\n",
       "      <td>6.105607e-02</td>\n",
       "      <td>1.293398e-03</td>\n",
       "      <td>1.428170e+03</td>\n",
       "      <td>8.396169e+00</td>\n",
       "      <td>1.388305e+04</td>\n",
       "      <td>-9.947255e-01</td>\n",
       "      <td>9.771757e-03</td>\n",
       "      <td>3.030561e-04</td>\n",
       "      <td>5.143982e+00</td>\n",
       "      <td>6.557982e+01</td>\n",
       "      <td>2.822580e+03</td>\n",
       "      <td>8.614072e-02</td>\n",
       "      <td>-6.116599e-02</td>\n",
       "    </tr>\n",
       "    <tr>\n",
       "      <th>std</th>\n",
       "      <td>1.729148e+01</td>\n",
       "      <td>5.386045e+04</td>\n",
       "      <td>4.741711e-01</td>\n",
       "      <td>2.395982e+00</td>\n",
       "      <td>6.911332e+01</td>\n",
       "      <td>9.670781e+03</td>\n",
       "      <td>4.945055e-01</td>\n",
       "      <td>1.026829e-01</td>\n",
       "      <td>7.362866e-01</td>\n",
       "      <td>3.594059e-02</td>\n",
       "      <td>9.669248e+03</td>\n",
       "      <td>2.785559e+01</td>\n",
       "      <td>3.870826e+03</td>\n",
       "      <td>1.025132e-01</td>\n",
       "      <td>9.836804e-02</td>\n",
       "      <td>1.740587e-02</td>\n",
       "      <td>2.157913e+00</td>\n",
       "      <td>1.696971e+01</td>\n",
       "      <td>1.105215e+05</td>\n",
       "      <td>2.805717e-01</td>\n",
       "      <td>2.536159e-01</td>\n",
       "    </tr>\n",
       "    <tr>\n",
       "      <th>min</th>\n",
       "      <td>0.000000e+00</td>\n",
       "      <td>0.000000e+00</td>\n",
       "      <td>0.000000e+00</td>\n",
       "      <td>-1.000000e+00</td>\n",
       "      <td>-1.000000e+00</td>\n",
       "      <td>0.000000e+00</td>\n",
       "      <td>0.000000e+00</td>\n",
       "      <td>0.000000e+00</td>\n",
       "      <td>0.000000e+00</td>\n",
       "      <td>0.000000e+00</td>\n",
       "      <td>0.000000e+00</td>\n",
       "      <td>-1.000000e+00</td>\n",
       "      <td>-1.000000e+00</td>\n",
       "      <td>-1.000000e+00</td>\n",
       "      <td>0.000000e+00</td>\n",
       "      <td>0.000000e+00</td>\n",
       "      <td>-1.000000e+00</td>\n",
       "      <td>-1.000000e+00</td>\n",
       "      <td>0.000000e+00</td>\n",
       "      <td>0.000000e+00</td>\n",
       "      <td>-1.000000e+00</td>\n",
       "    </tr>\n",
       "    <tr>\n",
       "      <th>25%</th>\n",
       "      <td>1.400000e+01</td>\n",
       "      <td>1.041240e+05</td>\n",
       "      <td>5.000000e+00</td>\n",
       "      <td>4.000000e+00</td>\n",
       "      <td>2.760000e+02</td>\n",
       "      <td>1.050000e+02</td>\n",
       "      <td>0.000000e+00</td>\n",
       "      <td>0.000000e+00</td>\n",
       "      <td>0.000000e+00</td>\n",
       "      <td>0.000000e+00</td>\n",
       "      <td>1.050000e+02</td>\n",
       "      <td>0.000000e+00</td>\n",
       "      <td>1.345100e+04</td>\n",
       "      <td>-1.000000e+00</td>\n",
       "      <td>0.000000e+00</td>\n",
       "      <td>0.000000e+00</td>\n",
       "      <td>6.000000e+00</td>\n",
       "      <td>7.000000e+01</td>\n",
       "      <td>9.400000e+01</td>\n",
       "      <td>0.000000e+00</td>\n",
       "      <td>0.000000e+00</td>\n",
       "    </tr>\n",
       "    <tr>\n",
       "      <th>50%</th>\n",
       "      <td>3.000000e+01</td>\n",
       "      <td>1.452160e+05</td>\n",
       "      <td>5.000000e+00</td>\n",
       "      <td>5.000000e+00</td>\n",
       "      <td>2.890000e+02</td>\n",
       "      <td>3.150000e+02</td>\n",
       "      <td>1.000000e+00</td>\n",
       "      <td>0.000000e+00</td>\n",
       "      <td>0.000000e+00</td>\n",
       "      <td>0.000000e+00</td>\n",
       "      <td>3.150000e+02</td>\n",
       "      <td>0.000000e+00</td>\n",
       "      <td>1.575900e+04</td>\n",
       "      <td>-1.000000e+00</td>\n",
       "      <td>0.000000e+00</td>\n",
       "      <td>0.000000e+00</td>\n",
       "      <td>6.000000e+00</td>\n",
       "      <td>7.000000e+01</td>\n",
       "      <td>2.890000e+02</td>\n",
       "      <td>0.000000e+00</td>\n",
       "      <td>0.000000e+00</td>\n",
       "    </tr>\n",
       "    <tr>\n",
       "      <th>75%</th>\n",
       "      <td>4.400000e+01</td>\n",
       "      <td>1.848280e+05</td>\n",
       "      <td>5.000000e+00</td>\n",
       "      <td>5.000000e+00</td>\n",
       "      <td>3.250000e+02</td>\n",
       "      <td>9.010000e+02</td>\n",
       "      <td>1.000000e+00</td>\n",
       "      <td>0.000000e+00</td>\n",
       "      <td>0.000000e+00</td>\n",
       "      <td>0.000000e+00</td>\n",
       "      <td>9.030000e+02</td>\n",
       "      <td>0.000000e+00</td>\n",
       "      <td>1.575900e+04</td>\n",
       "      <td>-1.000000e+00</td>\n",
       "      <td>0.000000e+00</td>\n",
       "      <td>0.000000e+00</td>\n",
       "      <td>6.000000e+00</td>\n",
       "      <td>7.000000e+01</td>\n",
       "      <td>9.820000e+02</td>\n",
       "      <td>0.000000e+00</td>\n",
       "      <td>0.000000e+00</td>\n",
       "    </tr>\n",
       "    <tr>\n",
       "      <th>max</th>\n",
       "      <td>5.900000e+01</td>\n",
       "      <td>2.359590e+05</td>\n",
       "      <td>6.000000e+00</td>\n",
       "      <td>1.000000e+01</td>\n",
       "      <td>5.010000e+02</td>\n",
       "      <td>5.051970e+06</td>\n",
       "      <td>1.000000e+00</td>\n",
       "      <td>1.000000e+00</td>\n",
       "      <td>3.000000e+01</td>\n",
       "      <td>1.000000e+00</td>\n",
       "      <td>5.032773e+06</td>\n",
       "      <td>1.340000e+02</td>\n",
       "      <td>1.734000e+04</td>\n",
       "      <td>4.000000e+00</td>\n",
       "      <td>1.000000e+00</td>\n",
       "      <td>1.000000e+00</td>\n",
       "      <td>1.000000e+01</td>\n",
       "      <td>8.500000e+01</td>\n",
       "      <td>7.473480e+07</td>\n",
       "      <td>1.000000e+00</td>\n",
       "      <td>1.000000e+00</td>\n",
       "    </tr>\n",
       "  </tbody>\n",
       "</table>\n",
       "</div>"
      ],
      "text/plain": [
       "              locdt         loctm         contp         etymd           mcc  \\\n",
       "count  9.288708e+06  9.288708e+06  9.288708e+06  9.288708e+06  9.288708e+06   \n",
       "mean   2.943696e+01  1.430691e+05  4.904868e+00  4.581256e+00  3.172410e+02   \n",
       "std    1.729148e+01  5.386045e+04  4.741711e-01  2.395982e+00  6.911332e+01   \n",
       "min    0.000000e+00  0.000000e+00  0.000000e+00 -1.000000e+00 -1.000000e+00   \n",
       "25%    1.400000e+01  1.041240e+05  5.000000e+00  4.000000e+00  2.760000e+02   \n",
       "50%    3.000000e+01  1.452160e+05  5.000000e+00  5.000000e+00  2.890000e+02   \n",
       "75%    4.400000e+01  1.848280e+05  5.000000e+00  5.000000e+00  3.250000e+02   \n",
       "max    5.900000e+01  2.359590e+05  6.000000e+00  1.000000e+01  5.010000e+02   \n",
       "\n",
       "              conam          ecfg         insfg         iterm         bnsfg  \\\n",
       "count  9.288708e+06  9.288708e+06  9.288708e+06  9.288708e+06  9.288708e+06   \n",
       "mean   1.428644e+03  5.739214e-01  1.065735e-02  6.105607e-02  1.293398e-03   \n",
       "std    9.670781e+03  4.945055e-01  1.026829e-01  7.362866e-01  3.594059e-02   \n",
       "min    0.000000e+00  0.000000e+00  0.000000e+00  0.000000e+00  0.000000e+00   \n",
       "25%    1.050000e+02  0.000000e+00  0.000000e+00  0.000000e+00  0.000000e+00   \n",
       "50%    3.150000e+02  1.000000e+00  0.000000e+00  0.000000e+00  0.000000e+00   \n",
       "75%    9.010000e+02  1.000000e+00  0.000000e+00  0.000000e+00  0.000000e+00   \n",
       "max    5.051970e+06  1.000000e+00  1.000000e+00  3.000000e+01  1.000000e+00   \n",
       "\n",
       "              flam1         stocn         scity         stscd         ovrlt  \\\n",
       "count  9.288708e+06  9.288708e+06  9.288708e+06  9.288708e+06  9.288708e+06   \n",
       "mean   1.428170e+03  8.396169e+00  1.388305e+04 -9.947255e-01  9.771757e-03   \n",
       "std    9.669248e+03  2.785559e+01  3.870826e+03  1.025132e-01  9.836804e-02   \n",
       "min    0.000000e+00 -1.000000e+00 -1.000000e+00 -1.000000e+00  0.000000e+00   \n",
       "25%    1.050000e+02  0.000000e+00  1.345100e+04 -1.000000e+00  0.000000e+00   \n",
       "50%    3.150000e+02  0.000000e+00  1.575900e+04 -1.000000e+00  0.000000e+00   \n",
       "75%    9.030000e+02  0.000000e+00  1.575900e+04 -1.000000e+00  0.000000e+00   \n",
       "max    5.032773e+06  1.340000e+02  1.734000e+04  4.000000e+00  1.000000e+00   \n",
       "\n",
       "              flbmk         hcefg         csmcu         csmam     flg_3dsmk  \\\n",
       "count  9.288708e+06  9.288708e+06  9.288708e+06  9.288708e+06  9.288708e+06   \n",
       "mean   3.030561e-04  5.143982e+00  6.557982e+01  2.822580e+03  8.614072e-02   \n",
       "std    1.740587e-02  2.157913e+00  1.696971e+01  1.105215e+05  2.805717e-01   \n",
       "min    0.000000e+00 -1.000000e+00 -1.000000e+00  0.000000e+00  0.000000e+00   \n",
       "25%    0.000000e+00  6.000000e+00  7.000000e+01  9.400000e+01  0.000000e+00   \n",
       "50%    0.000000e+00  6.000000e+00  7.000000e+01  2.890000e+02  0.000000e+00   \n",
       "75%    0.000000e+00  6.000000e+00  7.000000e+01  9.820000e+02  0.000000e+00   \n",
       "max    1.000000e+00  1.000000e+01  8.500000e+01  7.473480e+07  1.000000e+00   \n",
       "\n",
       "              label  \n",
       "count  9.288708e+06  \n",
       "mean  -6.116599e-02  \n",
       "std    2.536159e-01  \n",
       "min   -1.000000e+00  \n",
       "25%    0.000000e+00  \n",
       "50%    0.000000e+00  \n",
       "75%    0.000000e+00  \n",
       "max    1.000000e+00  "
      ]
     },
     "execution_count": 11,
     "metadata": {},
     "output_type": "execute_result"
    }
   ],
   "source": [
    "df.describe()"
   ]
  },
  {
   "cell_type": "code",
   "execution_count": 6,
   "metadata": {},
   "outputs": [
    {
     "data": {
      "text/html": [
       "<div>\n",
       "<style scoped>\n",
       "    .dataframe tbody tr th:only-of-type {\n",
       "        vertical-align: middle;\n",
       "    }\n",
       "\n",
       "    .dataframe tbody tr th {\n",
       "        vertical-align: top;\n",
       "    }\n",
       "\n",
       "    .dataframe thead th {\n",
       "        text-align: right;\n",
       "    }\n",
       "</style>\n",
       "<table border=\"1\" class=\"dataframe\">\n",
       "  <thead>\n",
       "    <tr style=\"text-align: right;\">\n",
       "      <th></th>\n",
       "      <th>locdt</th>\n",
       "      <th>loctm</th>\n",
       "      <th>conam</th>\n",
       "      <th>iterm</th>\n",
       "      <th>flam1</th>\n",
       "      <th>csmam</th>\n",
       "    </tr>\n",
       "  </thead>\n",
       "  <tbody>\n",
       "    <tr>\n",
       "      <th>count</th>\n",
       "      <td>9.288708e+06</td>\n",
       "      <td>9.288708e+06</td>\n",
       "      <td>9.288708e+06</td>\n",
       "      <td>9.288708e+06</td>\n",
       "      <td>9.288708e+06</td>\n",
       "      <td>9.288708e+06</td>\n",
       "    </tr>\n",
       "    <tr>\n",
       "      <th>mean</th>\n",
       "      <td>2.943696e+01</td>\n",
       "      <td>1.430691e+05</td>\n",
       "      <td>1.428644e+03</td>\n",
       "      <td>6.105607e-02</td>\n",
       "      <td>1.428170e+03</td>\n",
       "      <td>2.822580e+03</td>\n",
       "    </tr>\n",
       "    <tr>\n",
       "      <th>std</th>\n",
       "      <td>1.729148e+01</td>\n",
       "      <td>5.386045e+04</td>\n",
       "      <td>9.670781e+03</td>\n",
       "      <td>7.362866e-01</td>\n",
       "      <td>9.669248e+03</td>\n",
       "      <td>1.105215e+05</td>\n",
       "    </tr>\n",
       "    <tr>\n",
       "      <th>min</th>\n",
       "      <td>0.000000e+00</td>\n",
       "      <td>0.000000e+00</td>\n",
       "      <td>0.000000e+00</td>\n",
       "      <td>0.000000e+00</td>\n",
       "      <td>0.000000e+00</td>\n",
       "      <td>0.000000e+00</td>\n",
       "    </tr>\n",
       "    <tr>\n",
       "      <th>25%</th>\n",
       "      <td>1.400000e+01</td>\n",
       "      <td>1.041240e+05</td>\n",
       "      <td>1.050000e+02</td>\n",
       "      <td>0.000000e+00</td>\n",
       "      <td>1.050000e+02</td>\n",
       "      <td>9.400000e+01</td>\n",
       "    </tr>\n",
       "    <tr>\n",
       "      <th>50%</th>\n",
       "      <td>3.000000e+01</td>\n",
       "      <td>1.452160e+05</td>\n",
       "      <td>3.150000e+02</td>\n",
       "      <td>0.000000e+00</td>\n",
       "      <td>3.150000e+02</td>\n",
       "      <td>2.890000e+02</td>\n",
       "    </tr>\n",
       "    <tr>\n",
       "      <th>75%</th>\n",
       "      <td>4.400000e+01</td>\n",
       "      <td>1.848280e+05</td>\n",
       "      <td>9.010000e+02</td>\n",
       "      <td>0.000000e+00</td>\n",
       "      <td>9.030000e+02</td>\n",
       "      <td>9.820000e+02</td>\n",
       "    </tr>\n",
       "    <tr>\n",
       "      <th>max</th>\n",
       "      <td>5.900000e+01</td>\n",
       "      <td>2.359590e+05</td>\n",
       "      <td>5.051970e+06</td>\n",
       "      <td>3.000000e+01</td>\n",
       "      <td>5.032773e+06</td>\n",
       "      <td>7.473480e+07</td>\n",
       "    </tr>\n",
       "  </tbody>\n",
       "</table>\n",
       "</div>"
      ],
      "text/plain": [
       "              locdt         loctm         conam         iterm         flam1  \\\n",
       "count  9.288708e+06  9.288708e+06  9.288708e+06  9.288708e+06  9.288708e+06   \n",
       "mean   2.943696e+01  1.430691e+05  1.428644e+03  6.105607e-02  1.428170e+03   \n",
       "std    1.729148e+01  5.386045e+04  9.670781e+03  7.362866e-01  9.669248e+03   \n",
       "min    0.000000e+00  0.000000e+00  0.000000e+00  0.000000e+00  0.000000e+00   \n",
       "25%    1.400000e+01  1.041240e+05  1.050000e+02  0.000000e+00  1.050000e+02   \n",
       "50%    3.000000e+01  1.452160e+05  3.150000e+02  0.000000e+00  3.150000e+02   \n",
       "75%    4.400000e+01  1.848280e+05  9.010000e+02  0.000000e+00  9.030000e+02   \n",
       "max    5.900000e+01  2.359590e+05  5.051970e+06  3.000000e+01  5.032773e+06   \n",
       "\n",
       "              csmam  \n",
       "count  9.288708e+06  \n",
       "mean   2.822580e+03  \n",
       "std    1.105215e+05  \n",
       "min    0.000000e+00  \n",
       "25%    9.400000e+01  \n",
       "50%    2.890000e+02  \n",
       "75%    9.820000e+02  \n",
       "max    7.473480e+07  "
      ]
     },
     "execution_count": 6,
     "metadata": {},
     "output_type": "execute_result"
    }
   ],
   "source": [
    "#public.columns\n",
    "numeric_variable = ['locdt', 'loctm', 'conam', 'iterm','flam1', 'csmam']\n",
    "df[numeric_variable].describe()"
   ]
  },
  {
   "cell_type": "code",
   "execution_count": 21,
   "metadata": {},
   "outputs": [
    {
     "data": {
      "text/plain": [
       "<Axes: ylabel='Frequency'>"
      ]
     },
     "execution_count": 21,
     "metadata": {},
     "output_type": "execute_result"
    },
    {
     "data": {
      "image/png": "[encoded data removed]",
      "text/plain": [
       "<Figure size 640x480 with 1 Axes>"
      ]
     },
     "metadata": {},
     "output_type": "display_data"
    }
   ],
   "source": [
    "df.conam.sort_values(ascending = False)[df.conam.sort_values(ascending = False)>1000000].plot(kind='hist')\n",
    "# df.conam.plot(kind='box')\n",
    "# plt.show()"
   ]
  },
  {
   "cell_type": "code",
   "execution_count": 42,
   "metadata": {},
   "outputs": [
    {
     "data": {
      "image/png": "[encoded data removed]",
      "text/plain": [
       "<Figure size 640x480 with 1 Axes>"
      ]
     },
     "metadata": {},
     "output_type": "display_data"
    }
   ],
   "source": [
    "A = df[df.label==0].locdt.value_counts().sort_index()\n",
    "B = df[df.label==1].locdt.value_counts().sort_index()\n",
    "(A/sum(A)).plot()\n",
    "(B/sum(B)).plot()\n",
    "for locdt_value in range(min(df['locdt']), max(df['locdt']) + 1, 7):\n",
    "    plt.axvline(x=locdt_value, color='red', linestyle='--', linewidth=1)\n",
    "plt.show()\n",
    "\n",
    "#正常交易高峰 4,13,20,26,33,35,40,47\n",
    "#異常交易高峰 ,40,42,46,50"
   ]
  },
  {
   "cell_type": "code",
   "execution_count": 23,
   "metadata": {},
   "outputs": [],
   "source": [
    "df['weekday'] = df.locdt % 7\n"
   ]
  },
  {
   "cell_type": "code",
   "execution_count": 24,
   "metadata": {},
   "outputs": [],
   "source": [
    "df['h_loctm'] = df.loctm // 10000\n",
    "df['m_loctm'] = (df.loctm % 10000) //100\n",
    "df['s_loctm'] = df.loctm % 100"
   ]
  },
  {
   "cell_type": "code",
   "execution_count": 25,
   "metadata": {},
   "outputs": [
    {
     "data": {
      "text/plain": [
       "chid\n",
       "f200cd7e88bd814ad8bdf48c02216695ce72375f95873d63cd4bf724ad3e7a11    9674\n",
       "b59fa05aa098dee0422e892af2e21e66f3f554d05cf950ef46c35fecf105701c    2868\n",
       "20e72d586a7c7e4acf0f5f52488d3a82764d310a5477363f3e6492e12fc3e42d    2824\n",
       "75945c8b1b7af88340ffe4169b39341dfded2c07248d36e91b3e2a0852c7bab7    2543\n",
       "4b3f553fcb079b258f2a6a0c9a09a5b467c5138cda9c740d7b5e7059b00e9752    1743\n",
       "                                                                    ... \n",
       "a94b2c35307a165823e38040f30c633720b922cc5e242b6bf963fb176b724029       1\n",
       "cd7eeb3797614c101643337f61675d9ca3f185ddb165aaa122e80f6b27810c19       1\n",
       "67ea8f7ace058835617668f5689b213849188d1d3eefb40c47ab10459403dd23       1\n",
       "35b2bad388219d5fc7ecfc6089950e0811ff4c2c8945c78a28d2433bc4f80d17       1\n",
       "85a538fe0cb00a82ebdb948f1a8b45bfea5005dfcf7dcb3c89826033afcdf427       1\n",
       "Name: count, Length: 487830, dtype: int64"
      ]
     },
     "execution_count": 25,
     "metadata": {},
     "output_type": "execute_result"
    }
   ],
   "source": [
    "df.chid.value_counts()"
   ]
  },
  {
   "cell_type": "markdown",
   "metadata": {},
   "source": [
    "### 分析用戶跟卡號的關係"
   ]
  },
  {
   "cell_type": "markdown",
   "metadata": {},
   "source": [
    "一張卡(cano)有多個顧客ID(chid) -> 合併"
   ]
  },
  {
   "cell_type": "code",
   "execution_count": 191,
   "metadata": {},
   "outputs": [
    {
     "name": "stdout",
     "output_type": "stream",
     "text": [
      "1 張卡\t　總數 : 5894332, \t 比例:0.004777640621532686\n",
      "2 張卡\t　總數 : 2361544, \t 比例:0.0010903883222163127\n",
      "3 張卡\t　總數 : 703139, \t 比例:0.0013269069131423518\n",
      "4 張卡\t　總數 : 212371, \t 比例:0.001299612470629229\n",
      "5 張卡\t　總數 : 70607, \t 比例:0.000807285396632062\n",
      "6 張卡\t　總數 : 25558, \t 比例:0.0007825338445887784\n",
      "7 張卡\t　總數 : 9157, \t 比例:0.000764442503003167\n",
      "8 張卡\t　總數 : 5040, \t 比例:0.0\n",
      "9 張卡\t　總數 : 2614, \t 比例:0.0\n",
      "10 張卡\t　總數 : 1019, \t 比例:0.0\n",
      "11 張卡\t　總數 : 226, \t 比例:0.0\n",
      "12 張卡\t　總數 : 21, \t 比例:0.0\n",
      "13 張卡\t　總數 : 63, \t 比例:0.0\n",
      "20 張卡\t　總數 : 474, \t 比例:0.0\n",
      "27 張卡\t　總數 : 2543, \t 比例:0.0\n"
     ]
    }
   ],
   "source": [
    "for x in sorted(df.cards.unique()):\n",
    "    print(f'{x} 張卡\\t　總數 : {len(df[df.cards==x])}, \\t 比例:{sum(df[df.cards==x].label>0)/len(df[df.cards==x]) }',)"
   ]
  },
  {
   "cell_type": "code",
   "execution_count": 26,
   "metadata": {},
   "outputs": [
    {
     "data": {
      "text/plain": [
       "cano\n",
       "000004e90549c10a46912120949a36bbe9c92fb02daa27703f232957db971a3e    1\n",
       "00002522901695edfbc8be6728ad6b5cd63f30a9a9b9c9827c2fbb8783119da4    1\n",
       "0000635e95f06e3542a664112f7dc9610e11ca4de383b1eb72679534e28dabe4    1\n",
       "000085a95392a936a8f34bdaa9d05f7df0a6c2225cb776895e36dfe1194f52fd    1\n",
       "0000d1a82b1e29f7902725efd722923c726b5d826d6df3ea75e717a921d68e96    1\n",
       "                                                                   ..\n",
       "ffff679504aea1ca2294e4a185bdbdf7d166224f83c42ed4cd4521774fb62aed    1\n",
       "ffff78f6346f8ae69e0e0501921f429cc3c7f950df85a8c66f09af58eaf2992d    1\n",
       "ffff84cd1101eec24039332bb90193b9c6f4295e0489851c31b54b8a392a87c9    1\n",
       "ffff8fed185e7a8295d6081fcac3a78cdd72d08903b95c081d63069a7aec8fbc    1\n",
       "ffffa5b23e42f7b181116352663f282cd5e2f94a0bf5b6019c8dbbaa9030a8af    1\n",
       "Name: chid, Length: 627785, dtype: int64"
      ]
     },
     "execution_count": 26,
     "metadata": {},
     "output_type": "execute_result"
    }
   ],
   "source": [
    "cano_chid_counts = df.groupby('cano')['chid'].nunique()\n",
    "cano_chid_counts"
   ]
  },
  {
   "cell_type": "code",
   "execution_count": 27,
   "metadata": {},
   "outputs": [],
   "source": [
    "first_chid_mapping = df.groupby('cano')['chid'].first()\n",
    "#把chid換成沒有重複的chid\n",
    "df['chid'] = df['cano'].map(first_chid_mapping)\n",
    "\n",
    "# 可以檢查\n",
    "# df[df.cano.isin(cano_chid_counts[cano_chid_counts>1].index)]\n",
    "del first_chid_mapping, cano_chid_counts"
   ]
  },
  {
   "cell_type": "markdown",
   "metadata": {},
   "source": [
    "看一個人拿幾張卡"
   ]
  },
  {
   "cell_type": "code",
   "execution_count": 296,
   "metadata": {},
   "outputs": [
    {
     "name": "stdout",
     "output_type": "stream",
     "text": [
      "  chid  locdt   loctm cano  cards_before_time\n",
      "0    A    1.0  120000  101                  3\n",
      "3    A    1.5     917  102                  3\n",
      "1    A    2.0  150000  102                  3\n",
      "2    A    3.0     300  103                  3\n",
      "4    B    1.0  100000  201                  1\n",
      "5    B    2.0  130000  201                  1\n",
      "6    C    1.0   90000  301                  1\n"
     ]
    }
   ],
   "source": [
    "\n",
    "# 創建一個示例 DataFrame\n",
    "data = {'chid': ['A', 'A', 'A', 'A', 'B', 'B', 'C'],\n",
    "        'cano': ['101', '102', '103', '102', '201', '201', '301'],\n",
    "        'locdt': [1, 2, 3, 1.5,  1, 2, 1],\n",
    "        'loctm': [120000, 150000,300, 917, 100000, 130000, 90000]}\n",
    "\n",
    "data = pd.DataFrame(data)\n",
    "\n",
    "# 對數據按照 chid 和時間進行排序\n",
    "data = data.sort_values(['chid', 'locdt', 'loctm'])\n",
    "\n",
    "data['cards_before_time'] = data.groupby('chid')['cano'].expanding().apply(lambda x: x.nunique()).reset_index(level=0, drop=True)\n",
    "\n",
    "# 計算每個用戶在某個時間之前（含該時間）共拿了幾張不同的卡號\n",
    "# data['cards_before_time'] = data.groupby(['chid', 'locdt'])['cano'].transform('nunique')\n",
    "\n",
    "print(data[['chid', 'locdt', 'loctm', 'cano', 'cards_before_time']])\n"
   ]
  },
  {
   "cell_type": "code",
   "execution_count": 206,
   "metadata": {},
   "outputs": [
    {
     "data": {
      "text/plain": [
       "0    1\n",
       "1    2\n",
       "2    3\n",
       "3    1\n",
       "4    2\n",
       "5    1\n",
       "dtype: int64"
      ]
     },
     "execution_count": 206,
     "metadata": {},
     "output_type": "execute_result"
    }
   ],
   "source": [
    "data.groupby('chid')['cano'].cumcount()+1"
   ]
  },
  {
   "cell_type": "code",
   "execution_count": 284,
   "metadata": {},
   "outputs": [
    {
     "data": {
      "text/plain": [
       "txkey         object\n",
       "locdt          int64\n",
       "loctm          int64\n",
       "chid          object\n",
       "cano          object\n",
       "contp          int64\n",
       "etymd        float64\n",
       "mchno         object\n",
       "acqic         object\n",
       "mcc          float64\n",
       "conam        float64\n",
       "ecfg           int64\n",
       "insfg          int64\n",
       "iterm        float64\n",
       "bnsfg          int64\n",
       "flam1          int64\n",
       "stocn        float64\n",
       "scity        float64\n",
       "stscd        float64\n",
       "ovrlt          int64\n",
       "flbmk          int64\n",
       "hcefg        float64\n",
       "csmcu        float64\n",
       "csmam          int64\n",
       "flg_3dsmk      int64\n",
       "label        float64\n",
       "weekday        int64\n",
       "h_loctm        int64\n",
       "m_loctm        int64\n",
       "s_loctm        int64\n",
       "cards          int64\n",
       "dtype: object"
      ]
     },
     "execution_count": 284,
     "metadata": {},
     "output_type": "execute_result"
    }
   ],
   "source": [
    "new_df['chid'] = new_df['chid'].astype(str)\n",
    "new_df.dtypes"
   ]
  },
  {
   "cell_type": "code",
   "execution_count": 295,
   "metadata": {},
   "outputs": [],
   "source": [
    "# new_df = df.sort_values(['chid', 'locdt', 'loctm'])\n",
    "\n",
    "# new_df['chid'] = str(new_df['chid'])\n",
    "# new_df['cards_before_time'] = new_df.groupby('chid')['cano'].expanding().apply(lambda x: x.nunique()).reset_index(level=0, drop=True)\n",
    "\n",
    "\n",
    "# new_df"
   ]
  },
  {
   "cell_type": "code",
   "execution_count": 29,
   "metadata": {},
   "outputs": [],
   "source": [
    "chid_cano_counts = df.groupby('chid')['cano'].nunique()\n",
    "df['cards'] = df.chid.map(chid_cano_counts)"
   ]
  },
  {
   "cell_type": "code",
   "execution_count": 30,
   "metadata": {},
   "outputs": [
    {
     "name": "stdout",
     "output_type": "stream",
     "text": [
      "1\n",
      "0.005108101622218147\n",
      "2\n",
      "0.0011660262955910622\n",
      "3\n",
      "0.0014169102851285167\n",
      "4\n",
      "0.001388546503730461\n",
      "5\n",
      "0.0008619386057765008\n",
      "6\n",
      "0.0008372054083469379\n",
      "7\n",
      "0.0008165169718884871\n",
      "8\n",
      "0.0\n",
      "9\n",
      "0.0\n",
      "10\n",
      "0.0\n",
      "11\n",
      "0.0\n",
      "12\n",
      "0.0\n",
      "13\n",
      "0.0\n",
      "20\n",
      "0.0\n",
      "27\n",
      "0.0\n"
     ]
    }
   ],
   "source": [
    "for x in set(df.cards.unique()):\n",
    "    print(x)\n",
    "    A = df[(df.cards==x)&(df.label>=0)]\n",
    "    print(A.label.sum()/len(A))"
   ]
  },
  {
   "cell_type": "code",
   "execution_count": 92,
   "metadata": {},
   "outputs": [
    {
     "data": {
      "text/plain": [
       "csmcu\n",
       " 70.0    8494654\n",
       "-1.0      532539\n",
       " 68.0     132790\n",
       " 29.0      30023\n",
       " 81.0      29454\n",
       "          ...   \n",
       " 46.0          1\n",
       " 35.0          1\n",
       " 5.0           1\n",
       " 83.0          1\n",
       " 4.0           1\n",
       "Name: count, Length: 83, dtype: int64"
      ]
     },
     "execution_count": 92,
     "metadata": {},
     "output_type": "execute_result"
    }
   ],
   "source": [
    "df.csmcu.value_counts()"
   ]
  },
  {
   "cell_type": "code",
   "execution_count": 93,
   "metadata": {},
   "outputs": [
    {
     "data": {
      "image/png": "[encoded data removed]",
      "text/plain": [
       "<Figure size 640x480 with 1 Axes>"
      ]
     },
     "metadata": {},
     "output_type": "display_data"
    },
    {
     "data": {
      "image/png": "[encoded data removed]",
      "text/plain": [
       "<Figure size 640x480 with 1 Axes>"
      ]
     },
     "metadata": {},
     "output_type": "display_data"
    }
   ],
   "source": [
    "np.log10(df[(df.csmcu==70)&(df.conam>=0)].conam+1).plot(kind='hist')\n",
    "plt.show()\n",
    "np.log10(df[(df.csmcu==-1)&(df.conam>=0)].conam+1).plot(kind='hist')\n",
    "plt.show()"
   ]
  },
  {
   "cell_type": "code",
   "execution_count": 52,
   "metadata": {},
   "outputs": [
    {
     "data": {
      "image/png": "[encoded data removed]",
      "text/plain": [
       "<Figure size 640x480 with 1 Axes>"
      ]
     },
     "metadata": {},
     "output_type": "display_data"
    }
   ],
   "source": [
    "# 選擇 csmcu 出現次數大於 10000 的值\n",
    "selected_csmcu = df.csmcu.value_counts()[df.csmcu.value_counts() > 1000].index\n",
    "\n",
    "# 逐一處理每個 csmcu\n",
    "for x in selected_csmcu:\n",
    "    # 選擇特定 csmcu 的資料\n",
    "    data_for_csmcu = df[df.csmcu == x]['conam']\n",
    "    \n",
    "    # 繪製直方圖\n",
    "    plt.hist(data_for_csmcu, bins=50, alpha=0.5, label=str(x))\n",
    "\n",
    "plt.legend()\n",
    "plt.show()\n"
   ]
  },
  {
   "cell_type": "code",
   "execution_count": null,
   "metadata": {},
   "outputs": [],
   "source": [
    "for x in numeric_variable:\n",
    "    print(x)\n",
    "    df[x].plot(kind = 'hist')\n",
    "    plt.show()"
   ]
  },
  {
   "cell_type": "code",
   "execution_count": null,
   "metadata": {},
   "outputs": [],
   "source": []
  },
  {
   "cell_type": "markdown",
   "metadata": {},
   "source": [
    "### 看MCC"
   ]
  },
  {
   "cell_type": "code",
   "execution_count": 13,
   "metadata": {},
   "outputs": [
    {
     "name": "stdout",
     "output_type": "stream",
     "text": [
      "320.0 0.0005\n",
      "276.0 0.0002\n",
      "282.0 0.001\n",
      "272.0 0.0004\n",
      "275.0 0.0006\n",
      "273.0 0.0002\n",
      "288.0 0.0001\n",
      "375.0 0.0001\n",
      "289.0 0.0\n",
      "322.0 0.0005\n",
      "217.0 0.0024\n",
      "499.0 0.0004\n",
      "215.0 0.0003\n",
      "493.0 0.0\n",
      "406.0 0.0068\n",
      "494.0 0.0\n",
      "324.0 0.0572\n",
      "413.0 0.0047\n",
      "309.0 0.001\n"
     ]
    }
   ],
   "source": [
    "#df.mcc.value_counts()[df.mcc.value_counts()>10000].index\n",
    "for x in (df.mcc.value_counts()[df.mcc.value_counts()>100000].index):\n",
    "    print(x, round(df[(df.label>=0)&(df.mcc==x)].label.sum()/len(df[(df.label>=0)&(df.mcc==x)]),4))"
   ]
  }
 ],
 "metadata": {
  "kernelspec": {
   "display_name": "Python 3",
   "language": "python",
   "name": "python3"
  },
  "language_info": {
   "codemirror_mode": {
    "name": "ipython",
    "version": 3
   },
   "file_extension": ".py",
   "mimetype": "text/x-python",
   "name": "python",
   "nbconvert_exporter": "python",
   "pygments_lexer": "ipython3",
   "version": "3.11.5"
  }
 },
 "nbformat": 4,
 "nbformat_minor": 2
}
