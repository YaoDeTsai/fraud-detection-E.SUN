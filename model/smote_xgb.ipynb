{
 "cells": [
  {
   "cell_type": "code",
   "execution_count": 1,
   "metadata": {},
   "outputs": [
    {
     "name": "stdout",
     "output_type": "stream",
     "text": [
      "Classification Report:\n",
      "               precision    recall  f1-score   support\n",
      "\n",
      "         0.0       1.00      1.00      1.00      5909\n",
      "         1.0       1.00      1.00      1.00      6091\n",
      "\n",
      "    accuracy                           1.00     12000\n",
      "   macro avg       1.00      1.00      1.00     12000\n",
      "weighted avg       1.00      1.00      1.00     12000\n",
      "\n",
      "Confusion Matrix:\n",
      " [[5898   11]\n",
      " [   3 6088]]\n",
      "Accuracy: 0.9988333333333334\n",
      "Precision: 0.9988440186174019\n",
      "Recall: 0.9988229514683642\n",
      "F1 Score: 0.9988330407831407\n"
     ]
    }
   ],
   "source": [
    "import pandas as pd\n",
    "from sklearn.model_selection import train_test_split\n",
    "import xgboost as xgb\n",
    "from imblearn.over_sampling import SMOTE\n",
    "from sklearn.metrics import classification_report, confusion_matrix, accuracy_score, precision_score, recall_score, f1_score\n",
    "from sklearn.preprocessing import LabelEncoder\n",
    "from sklearn.impute import SimpleImputer\n",
    "\n",
    "# 加載數據\n",
    "data = pd.read_csv('/Users/linyinghsiao/Desktop/chatgpt_output拷貝.csv')\n",
    "\n",
    "# 處理類別型特徵：轉換為數值型\n",
    "label_encoders = {}\n",
    "categorical_columns = data.select_dtypes(include=['object']).columns\n",
    "\n",
    "for col in categorical_columns:\n",
    "    label_encoders[col] = LabelEncoder()\n",
    "    data[col] = label_encoders[col].fit_transform(data[col])\n",
    "\n",
    "# 處理 NaN 值：填充或刪除\n",
    "imputer = SimpleImputer(strategy='median')\n",
    "data = pd.DataFrame(imputer.fit_transform(data), columns=data.columns)\n",
    "\n",
    "# 分割特徵和標籤\n",
    "X = data.drop('label', axis=1)\n",
    "y = data['label']\n",
    "\n",
    "# 應用 SMOTE\n",
    "smote = SMOTE(random_state=42)\n",
    "X_resampled, y_resampled = smote.fit_resample(X, y)\n",
    "\n",
    "# 分割數據集\n",
    "X_train_resampled, X_test_resampled, y_train_resampled, y_test_resampled = train_test_split(\n",
    "    X_resampled, y_resampled, test_size=0.2, random_state=42)\n",
    "\n",
    "# 訓練 XGBoost 模型\n",
    "xgb_model = xgb.XGBClassifier(objective='binary:logistic', random_state=42)\n",
    "xgb_model.fit(X_train_resampled, y_train_resampled)\n",
    "\n",
    "# 評估模型\n",
    "y_pred = xgb_model.predict(X_test_resampled)\n",
    "\n",
    "# 計算並顯示分類報告和混淆矩陣\n",
    "class_report = classification_report(y_test_resampled, y_pred)\n",
    "conf_matrix = confusion_matrix(y_test_resampled, y_pred)\n",
    "print(\"Classification Report:\\n\", class_report)\n",
    "print(\"Confusion Matrix:\\n\", conf_matrix)\n",
    "\n",
    "# 計算並顯示其他模型指標\n",
    "accuracy = accuracy_score(y_test_resampled, y_pred)\n",
    "precision = precision_score(y_test_resampled, y_pred, average='macro')\n",
    "recall = recall_score(y_test_resampled, y_pred, average='macro')\n",
    "f1 = f1_score(y_test_resampled, y_pred, average='macro')\n",
    "\n",
    "print(\"Accuracy:\", accuracy)\n",
    "print(\"Precision:\", precision)\n",
    "print(\"Recall:\", recall)\n",
    "print(\"F1 Score:\", f1)\n"
   ]
  },
  {
   "cell_type": "markdown",
   "metadata": {},
   "source": [
    "保存"
   ]
  },
  {
   "cell_type": "code",
   "execution_count": 2,
   "metadata": {},
   "outputs": [
    {
     "data": {
      "text/plain": [
       "['imputer.pkl']"
      ]
     },
     "execution_count": 2,
     "metadata": {},
     "output_type": "execute_result"
    }
   ],
   "source": [
    "import joblib\n",
    "\n",
    "# 保存模型\n",
    "joblib.dump(xgb_model, 'xgb_model.pkl')\n",
    "\n",
    "# 保存 LabelEncoders 和 Imputer\n",
    "for col, le in label_encoders.items():\n",
    "    joblib.dump(le, f'label_encoder_{col}.pkl')\n",
    "joblib.dump(imputer, 'imputer.pkl')\n"
   ]
  },
  {
   "cell_type": "code",
   "execution_count": 3,
   "metadata": {},
   "outputs": [],
   "source": [
    "# 加載模型\n",
    "xgb_model = joblib.load('xgb_model.pkl')\n",
    "\n",
    "# 加載 LabelEncoders 和 Imputer\n",
    "label_encoders_loaded = {}\n",
    "for col in categorical_columns:\n",
    "    label_encoders_loaded[col] = joblib.load(f'label_encoder_{col}.pkl')\n",
    "imputer_loaded = joblib.load('imputer.pkl')\n"
   ]
  },
  {
   "cell_type": "code",
   "execution_count": 4,
   "metadata": {},
   "outputs": [
    {
     "ename": "ValueError",
     "evalue": "y contains previously unseen labels: 'a2c1209018e4e52e04f6fabb48f05f1b8bc09dc838ff6cb19906377fab414587'",
     "output_type": "error",
     "traceback": [
      "\u001b[0;31m---------------------------------------------------------------------------\u001b[0m",
      "\u001b[0;31mKeyError\u001b[0m                                  Traceback (most recent call last)",
      "File \u001b[0;32m~/Documents/GitHub/fraud-detection-E.SUN/.venv/lib/python3.11/site-packages/sklearn/utils/_encode.py:225\u001b[0m, in \u001b[0;36m_encode\u001b[0;34m(values, uniques, check_unknown)\u001b[0m\n\u001b[1;32m    224\u001b[0m \u001b[39mtry\u001b[39;00m:\n\u001b[0;32m--> 225\u001b[0m     \u001b[39mreturn\u001b[39;00m _map_to_integer(values, uniques)\n\u001b[1;32m    226\u001b[0m \u001b[39mexcept\u001b[39;00m \u001b[39mKeyError\u001b[39;00m \u001b[39mas\u001b[39;00m e:\n",
      "File \u001b[0;32m~/Documents/GitHub/fraud-detection-E.SUN/.venv/lib/python3.11/site-packages/sklearn/utils/_encode.py:165\u001b[0m, in \u001b[0;36m_map_to_integer\u001b[0;34m(values, uniques)\u001b[0m\n\u001b[1;32m    164\u001b[0m table \u001b[39m=\u001b[39m _nandict({val: i \u001b[39mfor\u001b[39;00m i, val \u001b[39min\u001b[39;00m \u001b[39menumerate\u001b[39m(uniques)})\n\u001b[0;32m--> 165\u001b[0m \u001b[39mreturn\u001b[39;00m np\u001b[39m.\u001b[39marray([table[v] \u001b[39mfor\u001b[39;49;00m v \u001b[39min\u001b[39;49;00m values])\n",
      "File \u001b[0;32m~/Documents/GitHub/fraud-detection-E.SUN/.venv/lib/python3.11/site-packages/sklearn/utils/_encode.py:165\u001b[0m, in \u001b[0;36m<listcomp>\u001b[0;34m(.0)\u001b[0m\n\u001b[1;32m    164\u001b[0m table \u001b[39m=\u001b[39m _nandict({val: i \u001b[39mfor\u001b[39;00m i, val \u001b[39min\u001b[39;00m \u001b[39menumerate\u001b[39m(uniques)})\n\u001b[0;32m--> 165\u001b[0m \u001b[39mreturn\u001b[39;00m np\u001b[39m.\u001b[39marray([table[v] \u001b[39mfor\u001b[39;00m v \u001b[39min\u001b[39;00m values])\n",
      "File \u001b[0;32m~/Documents/GitHub/fraud-detection-E.SUN/.venv/lib/python3.11/site-packages/sklearn/utils/_encode.py:159\u001b[0m, in \u001b[0;36m_nandict.__missing__\u001b[0;34m(self, key)\u001b[0m\n\u001b[1;32m    158\u001b[0m     \u001b[39mreturn\u001b[39;00m \u001b[39mself\u001b[39m\u001b[39m.\u001b[39mnan_value\n\u001b[0;32m--> 159\u001b[0m \u001b[39mraise\u001b[39;00m \u001b[39mKeyError\u001b[39;00m(key)\n",
      "\u001b[0;31mKeyError\u001b[0m: 'a2c1209018e4e52e04f6fabb48f05f1b8bc09dc838ff6cb19906377fab414587'",
      "\nDuring handling of the above exception, another exception occurred:\n",
      "\u001b[0;31mValueError\u001b[0m                                Traceback (most recent call last)",
      "\u001b[1;32m/Users/linyinghsiao/Documents/GitHub/fraud-detection-E.SUN/model/smote_xgb.ipynb Cell 5\u001b[0m line \u001b[0;36m6\n\u001b[1;32m      <a href='vscode-notebook-cell:/Users/linyinghsiao/Documents/GitHub/fraud-detection-E.SUN/model/smote_xgb.ipynb#W4sZmlsZQ%3D%3D?line=3'>4</a>\u001b[0m \u001b[39m# 處理類別型特徵\u001b[39;00m\n\u001b[1;32m      <a href='vscode-notebook-cell:/Users/linyinghsiao/Documents/GitHub/fraud-detection-E.SUN/model/smote_xgb.ipynb#W4sZmlsZQ%3D%3D?line=4'>5</a>\u001b[0m \u001b[39mfor\u001b[39;00m col \u001b[39min\u001b[39;00m categorical_columns:\n\u001b[0;32m----> <a href='vscode-notebook-cell:/Users/linyinghsiao/Documents/GitHub/fraud-detection-E.SUN/model/smote_xgb.ipynb#W4sZmlsZQ%3D%3D?line=5'>6</a>\u001b[0m     new_data[col] \u001b[39m=\u001b[39m label_encoders_loaded[col]\u001b[39m.\u001b[39;49mtransform(new_data[col])\n\u001b[1;32m      <a href='vscode-notebook-cell:/Users/linyinghsiao/Documents/GitHub/fraud-detection-E.SUN/model/smote_xgb.ipynb#W4sZmlsZQ%3D%3D?line=7'>8</a>\u001b[0m \u001b[39m# 處理 NaN 值\u001b[39;00m\n\u001b[1;32m      <a href='vscode-notebook-cell:/Users/linyinghsiao/Documents/GitHub/fraud-detection-E.SUN/model/smote_xgb.ipynb#W4sZmlsZQ%3D%3D?line=8'>9</a>\u001b[0m new_data \u001b[39m=\u001b[39m pd\u001b[39m.\u001b[39mDataFrame(imputer_loaded\u001b[39m.\u001b[39mtransform(new_data), columns\u001b[39m=\u001b[39mnew_data\u001b[39m.\u001b[39mcolumns)\n",
      "File \u001b[0;32m~/Documents/GitHub/fraud-detection-E.SUN/.venv/lib/python3.11/site-packages/sklearn/preprocessing/_label.py:137\u001b[0m, in \u001b[0;36mLabelEncoder.transform\u001b[0;34m(self, y)\u001b[0m\n\u001b[1;32m    134\u001b[0m \u001b[39mif\u001b[39;00m _num_samples(y) \u001b[39m==\u001b[39m \u001b[39m0\u001b[39m:\n\u001b[1;32m    135\u001b[0m     \u001b[39mreturn\u001b[39;00m np\u001b[39m.\u001b[39marray([])\n\u001b[0;32m--> 137\u001b[0m \u001b[39mreturn\u001b[39;00m _encode(y, uniques\u001b[39m=\u001b[39;49m\u001b[39mself\u001b[39;49m\u001b[39m.\u001b[39;49mclasses_)\n",
      "File \u001b[0;32m~/Documents/GitHub/fraud-detection-E.SUN/.venv/lib/python3.11/site-packages/sklearn/utils/_encode.py:227\u001b[0m, in \u001b[0;36m_encode\u001b[0;34m(values, uniques, check_unknown)\u001b[0m\n\u001b[1;32m    225\u001b[0m         \u001b[39mreturn\u001b[39;00m _map_to_integer(values, uniques)\n\u001b[1;32m    226\u001b[0m     \u001b[39mexcept\u001b[39;00m \u001b[39mKeyError\u001b[39;00m \u001b[39mas\u001b[39;00m e:\n\u001b[0;32m--> 227\u001b[0m         \u001b[39mraise\u001b[39;00m \u001b[39mValueError\u001b[39;00m(\u001b[39mf\u001b[39m\u001b[39m\"\u001b[39m\u001b[39my contains previously unseen labels: \u001b[39m\u001b[39m{\u001b[39;00m\u001b[39mstr\u001b[39m(e)\u001b[39m}\u001b[39;00m\u001b[39m\"\u001b[39m)\n\u001b[1;32m    228\u001b[0m \u001b[39melse\u001b[39;00m:\n\u001b[1;32m    229\u001b[0m     \u001b[39mif\u001b[39;00m check_unknown:\n",
      "\u001b[0;31mValueError\u001b[0m: y contains previously unseen labels: 'a2c1209018e4e52e04f6fabb48f05f1b8bc09dc838ff6cb19906377fab414587'"
     ]
    }
   ],
   "source": [
    "# 加載新數據\n",
    "new_data = pd.read_csv('/Users/linyinghsiao/Documents/GitHub/fraud-detection-E.SUN/datasets/dataset_1st/public_processed.csv')\n",
    "\n",
    "# 處理類別型特徵\n",
    "for col in categorical_columns:\n",
    "    new_data[col] = label_encoders_loaded[col].transform(new_data[col])\n",
    "\n",
    "# 處理 NaN 值\n",
    "new_data = pd.DataFrame(imputer_loaded.transform(new_data), columns=new_data.columns)\n",
    "\n",
    "# 預處理新數據\n",
    "X_new = new_data.drop('label', axis=1)  # 假設新數據中也有 'label' 列\n",
    "\n",
    "# 使用模型進行預測\n",
    "y_pred_new = xgb_model.predict(X_new)\n",
    "\n",
    "# 輸出預測結果\n",
    "print(y_pred_new)\n"
   ]
  },
  {
   "cell_type": "code",
   "execution_count": null,
   "metadata": {},
   "outputs": [],
   "source": []
  }
 ],
 "metadata": {
  "kernelspec": {
   "display_name": ".venv",
   "language": "python",
   "name": "python3"
  },
  "language_info": {
   "codemirror_mode": {
    "name": "ipython",
    "version": 3
   },
   "file_extension": ".py",
   "mimetype": "text/x-python",
   "name": "python",
   "nbconvert_exporter": "python",
   "pygments_lexer": "ipython3",
   "version": "3.11.3"
  }
 },
 "nbformat": 4,
 "nbformat_minor": 2
}
